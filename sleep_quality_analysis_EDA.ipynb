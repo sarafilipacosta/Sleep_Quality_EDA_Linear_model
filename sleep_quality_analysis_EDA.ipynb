{
  "nbformat": 4,
  "nbformat_minor": 0,
  "metadata": {
    "colab": {
      "provenance": []
    },
    "kernelspec": {
      "name": "python3",
      "display_name": "Python 3"
    },
    "language_info": {
      "name": "python"
    }
  },
  "cells": [
    {
      "cell_type": "markdown",
      "source": [
        "# About this Dataset\n",
        "\n",
        "## Data overview\n",
        "The Sleep Health and Lifestyle Dataset comprises 400 rows and 13 columns, covering a wide range of variables related to sleep and daily habits. It includes details such as gender, age, occupation, sleep duration, quality of sleep, physical activity level, stress levels, BMI category, blood pressure, heart rate, daily steps, and the presence or absence of sleep disorders.\n",
        "\n",
        "## Key Features of the Dataset:\n",
        "- *Comprehensive Sleep Metrics*: Explore sleep duration, quality, and factors influencing sleep patterns.\n",
        "- *Lifestyle Factors*: Analyze physical activity levels, stress levels, and BMI categories.\n",
        "- *Cardiovascular Health*: Examine blood pressure and heart rate measurements.\n",
        "- *Sleep Disorder Analysis*: Identify the occurrence of sleep disorders such as Insomnia and Sleep Apnea.\n",
        "\n"
      ],
      "metadata": {
        "id": "QbaPnlvvxoJH"
      }
    },
    {
      "cell_type": "markdown",
      "source": [
        "## Dataset Columns:\n",
        "\n",
        "| **Field**                           |        Description                                                                |\n",
        "|-------------------------------------------|----------------------------------------------------------------------------------------------------------|\n",
        "| **Person   ID**                                |  An identifier for each individual.\n",
        "| **Gender**                                |  The gender of the person   (Male/Female).                                                               |\n",
        "| **Age**                                   |  The age of the person in years.                                                                         |\n",
        "| **Occupation**                            |  The occupation or profession of   the person.                                                           |\n",
        "| **Sleep Duration (hours)**                |  The number of hours the person   sleeps per day.                                                        |\n",
        "| **Quality of Sleep (scale  1-10)**        |  A subjective rating of the quality   of sleep, ranging from 1 to 10.                                    |\n",
        "| **Physical Activity Level (minutes/day)** |  The number of minutes the person   engages in physical activity daily.                                  |\n",
        "| **Stress Level (scale  1-10)**            |  A subjective rating of the stress   level experienced by the person, ranging from 1 to 10.              |\n",
        "| **BMI Category**                          |  The BMI category of the person   (e.g., Underweight, Normal, Overweight).                               |\n",
        "| **Blood Pressure (systolic/diastolic)**   |  The blood pressure measurement of   the person, indicated as systolic pressure over diastolic pressure. |\n",
        "| **Heart Rate (bpm)**                      |  The resting heart rate of the   person in beats per minute.                                             |\n",
        "| **Daily Steps**                           |  The number of steps the person   takes per day.                                                         |\n",
        "| **Sleep Disorder**                        |  The presence or absence of a sleep   disorder in the person (None, Insomnia, Sleep Apnea).              |\n",
        "\n",
        "\n",
        "**Details about Sleep Disorder Column:**\n",
        "\n",
        "None: The individual does not exhibit any specific sleep disorder.\n",
        "Insomnia: The individual experiences difficulty falling asleep or staying asleep, leading to inadequate or poor-quality sleep.\n",
        "Sleep Apnea: The individual suffers from pauses in breathing during sleep, resulting in disrupted sleep patterns and potential health risks."
      ],
      "metadata": {
        "id": "-xpdZ14dygxQ"
      }
    },
    {
      "cell_type": "code",
      "source": [
        "!pip install opendatasets"
      ],
      "metadata": {
        "colab": {
          "base_uri": "https://localhost:8080/"
        },
        "id": "5ExezBOUz-DE",
        "outputId": "362e5960-76ee-4c67-fd6d-9bf6b307588b"
      },
      "execution_count": 1,
      "outputs": [
        {
          "output_type": "stream",
          "name": "stdout",
          "text": [
            "Collecting opendatasets\n",
            "  Downloading opendatasets-0.1.22-py3-none-any.whl (15 kB)\n",
            "Requirement already satisfied: tqdm in /usr/local/lib/python3.10/dist-packages (from opendatasets) (4.66.2)\n",
            "Requirement already satisfied: kaggle in /usr/local/lib/python3.10/dist-packages (from opendatasets) (1.5.16)\n",
            "Requirement already satisfied: click in /usr/local/lib/python3.10/dist-packages (from opendatasets) (8.1.7)\n",
            "Requirement already satisfied: six>=1.10 in /usr/local/lib/python3.10/dist-packages (from kaggle->opendatasets) (1.16.0)\n",
            "Requirement already satisfied: certifi in /usr/local/lib/python3.10/dist-packages (from kaggle->opendatasets) (2024.2.2)\n",
            "Requirement already satisfied: python-dateutil in /usr/local/lib/python3.10/dist-packages (from kaggle->opendatasets) (2.8.2)\n",
            "Requirement already satisfied: requests in /usr/local/lib/python3.10/dist-packages (from kaggle->opendatasets) (2.31.0)\n",
            "Requirement already satisfied: python-slugify in /usr/local/lib/python3.10/dist-packages (from kaggle->opendatasets) (8.0.4)\n",
            "Requirement already satisfied: urllib3 in /usr/local/lib/python3.10/dist-packages (from kaggle->opendatasets) (2.0.7)\n",
            "Requirement already satisfied: bleach in /usr/local/lib/python3.10/dist-packages (from kaggle->opendatasets) (6.1.0)\n",
            "Requirement already satisfied: webencodings in /usr/local/lib/python3.10/dist-packages (from bleach->kaggle->opendatasets) (0.5.1)\n",
            "Requirement already satisfied: text-unidecode>=1.3 in /usr/local/lib/python3.10/dist-packages (from python-slugify->kaggle->opendatasets) (1.3)\n",
            "Requirement already satisfied: charset-normalizer<4,>=2 in /usr/local/lib/python3.10/dist-packages (from requests->kaggle->opendatasets) (3.3.2)\n",
            "Requirement already satisfied: idna<4,>=2.5 in /usr/local/lib/python3.10/dist-packages (from requests->kaggle->opendatasets) (3.6)\n",
            "Installing collected packages: opendatasets\n",
            "Successfully installed opendatasets-0.1.22\n"
          ]
        }
      ]
    },
    {
      "cell_type": "code",
      "source": [
        "# Mount google drive\n",
        "from google.colab import drive\n",
        "drive.mount('/content/drive')"
      ],
      "metadata": {
        "colab": {
          "base_uri": "https://localhost:8080/"
        },
        "id": "gNDX0ah30UUZ",
        "outputId": "73381fc9-65dc-4d74-a963-b7057df6e9ef"
      },
      "execution_count": 2,
      "outputs": [
        {
          "output_type": "stream",
          "name": "stdout",
          "text": [
            "Mounted at /content/drive\n"
          ]
        }
      ]
    },
    {
      "cell_type": "code",
      "source": [
        "import opendatasets as od"
      ],
      "metadata": {
        "id": "_-x2x3Tw1eSk"
      },
      "execution_count": 4,
      "outputs": []
    },
    {
      "cell_type": "code",
      "source": [
        "#Copy credencials of kaggle to correct place\n",
        "!mkdir -p ~/.kaggle\n",
        "!cp '/content/drive/MyDrive/Colab Notebooks/kaggle.json' ~/.kaggle/\n",
        "!cp '/content/drive/MyDrive/Colab Notebooks/kaggle.json' ./\n",
        "!chmod 600 ~/.kaggle/kaggle.json\n",
        "print(\"ok\")"
      ],
      "metadata": {
        "colab": {
          "base_uri": "https://localhost:8080/"
        },
        "id": "-MUGmgQf0VyU",
        "outputId": "df658b4c-9bec-46a7-deae-7d285e42d31e"
      },
      "execution_count": 5,
      "outputs": [
        {
          "output_type": "stream",
          "name": "stdout",
          "text": [
            "ok\n"
          ]
        }
      ]
    },
    {
      "cell_type": "code",
      "source": [
        "# create folder of kaggle with url of dataset\n",
        "od.download(\n",
        "    \"https://www.kaggle.com/datasets/uom190346a/sleep-health-and-lifestyle-dataset\")"
      ],
      "metadata": {
        "colab": {
          "base_uri": "https://localhost:8080/"
        },
        "id": "Hw8KNlna0Xss",
        "outputId": "4bc07c40-706b-44fd-b757-7a61c66be8b8"
      },
      "execution_count": 6,
      "outputs": [
        {
          "output_type": "stream",
          "name": "stdout",
          "text": [
            "Downloading sleep-health-and-lifestyle-dataset.zip to ./sleep-health-and-lifestyle-dataset\n"
          ]
        },
        {
          "output_type": "stream",
          "name": "stderr",
          "text": [
            "100%|██████████| 2.54k/2.54k [00:00<00:00, 772kB/s]"
          ]
        },
        {
          "output_type": "stream",
          "name": "stdout",
          "text": [
            "\n"
          ]
        },
        {
          "output_type": "stream",
          "name": "stderr",
          "text": [
            "\n"
          ]
        }
      ]
    },
    {
      "cell_type": "markdown",
      "source": [
        "## Project Description\n",
        "\n",
        "Sleep is essential for both physical and mental health. Quality sleep repairs cells, consolidates memories, wards off disease, and much more. In this project, I will be working as a data science consultant for SleepInc, a sleep-tracking startup, and your **mission is to analyze anonymous sleep data** from their SleepScope app to *uncover insights into lifestyle factors affecting sleep quality and duration*."
      ],
      "metadata": {
        "id": "R7bDIe-y17WQ"
      }
    },
    {
      "cell_type": "markdown",
      "source": [
        "# Import Libraries"
      ],
      "metadata": {
        "id": "-khBIdxh0gj8"
      }
    },
    {
      "cell_type": "code",
      "source": [
        "import pandas as pd\n",
        "import numpy as np\n",
        "import matplotlib.pyplot as plt"
      ],
      "metadata": {
        "id": "bIRa1yzp1vK8"
      },
      "execution_count": 7,
      "outputs": []
    },
    {
      "cell_type": "markdown",
      "source": [
        "# Import and read data"
      ],
      "metadata": {
        "id": "miFriqMV3sDt"
      }
    },
    {
      "cell_type": "code",
      "source": [
        "# import and view data\n",
        "raw_data=pd.read_csv('/content/sleep-health-and-lifestyle-dataset/Sleep_health_and_lifestyle_dataset.csv')\n",
        "raw_data.head()"
      ],
      "metadata": {
        "colab": {
          "base_uri": "https://localhost:8080/",
          "height": 206
        },
        "id": "HnMQtwpB32qa",
        "outputId": "68f46c3f-90a6-4457-e5f1-35e974e2fe0d"
      },
      "execution_count": 8,
      "outputs": [
        {
          "output_type": "execute_result",
          "data": {
            "text/plain": [
              "   Person ID Gender  Age            Occupation  Sleep Duration  \\\n",
              "0          1   Male   27     Software Engineer             6.1   \n",
              "1          2   Male   28                Doctor             6.2   \n",
              "2          3   Male   28                Doctor             6.2   \n",
              "3          4   Male   28  Sales Representative             5.9   \n",
              "4          5   Male   28  Sales Representative             5.9   \n",
              "\n",
              "   Quality of Sleep  Physical Activity Level  Stress Level BMI Category  \\\n",
              "0                 6                       42             6   Overweight   \n",
              "1                 6                       60             8       Normal   \n",
              "2                 6                       60             8       Normal   \n",
              "3                 4                       30             8        Obese   \n",
              "4                 4                       30             8        Obese   \n",
              "\n",
              "  Blood Pressure  Heart Rate  Daily Steps Sleep Disorder  \n",
              "0         126/83          77         4200            NaN  \n",
              "1         125/80          75        10000            NaN  \n",
              "2         125/80          75        10000            NaN  \n",
              "3         140/90          85         3000    Sleep Apnea  \n",
              "4         140/90          85         3000    Sleep Apnea  "
            ],
            "text/html": [
              "\n",
              "  <div id=\"df-f508d2cb-fb77-47cf-9a39-33fc507325d3\" class=\"colab-df-container\">\n",
              "    <div>\n",
              "<style scoped>\n",
              "    .dataframe tbody tr th:only-of-type {\n",
              "        vertical-align: middle;\n",
              "    }\n",
              "\n",
              "    .dataframe tbody tr th {\n",
              "        vertical-align: top;\n",
              "    }\n",
              "\n",
              "    .dataframe thead th {\n",
              "        text-align: right;\n",
              "    }\n",
              "</style>\n",
              "<table border=\"1\" class=\"dataframe\">\n",
              "  <thead>\n",
              "    <tr style=\"text-align: right;\">\n",
              "      <th></th>\n",
              "      <th>Person ID</th>\n",
              "      <th>Gender</th>\n",
              "      <th>Age</th>\n",
              "      <th>Occupation</th>\n",
              "      <th>Sleep Duration</th>\n",
              "      <th>Quality of Sleep</th>\n",
              "      <th>Physical Activity Level</th>\n",
              "      <th>Stress Level</th>\n",
              "      <th>BMI Category</th>\n",
              "      <th>Blood Pressure</th>\n",
              "      <th>Heart Rate</th>\n",
              "      <th>Daily Steps</th>\n",
              "      <th>Sleep Disorder</th>\n",
              "    </tr>\n",
              "  </thead>\n",
              "  <tbody>\n",
              "    <tr>\n",
              "      <th>0</th>\n",
              "      <td>1</td>\n",
              "      <td>Male</td>\n",
              "      <td>27</td>\n",
              "      <td>Software Engineer</td>\n",
              "      <td>6.1</td>\n",
              "      <td>6</td>\n",
              "      <td>42</td>\n",
              "      <td>6</td>\n",
              "      <td>Overweight</td>\n",
              "      <td>126/83</td>\n",
              "      <td>77</td>\n",
              "      <td>4200</td>\n",
              "      <td>NaN</td>\n",
              "    </tr>\n",
              "    <tr>\n",
              "      <th>1</th>\n",
              "      <td>2</td>\n",
              "      <td>Male</td>\n",
              "      <td>28</td>\n",
              "      <td>Doctor</td>\n",
              "      <td>6.2</td>\n",
              "      <td>6</td>\n",
              "      <td>60</td>\n",
              "      <td>8</td>\n",
              "      <td>Normal</td>\n",
              "      <td>125/80</td>\n",
              "      <td>75</td>\n",
              "      <td>10000</td>\n",
              "      <td>NaN</td>\n",
              "    </tr>\n",
              "    <tr>\n",
              "      <th>2</th>\n",
              "      <td>3</td>\n",
              "      <td>Male</td>\n",
              "      <td>28</td>\n",
              "      <td>Doctor</td>\n",
              "      <td>6.2</td>\n",
              "      <td>6</td>\n",
              "      <td>60</td>\n",
              "      <td>8</td>\n",
              "      <td>Normal</td>\n",
              "      <td>125/80</td>\n",
              "      <td>75</td>\n",
              "      <td>10000</td>\n",
              "      <td>NaN</td>\n",
              "    </tr>\n",
              "    <tr>\n",
              "      <th>3</th>\n",
              "      <td>4</td>\n",
              "      <td>Male</td>\n",
              "      <td>28</td>\n",
              "      <td>Sales Representative</td>\n",
              "      <td>5.9</td>\n",
              "      <td>4</td>\n",
              "      <td>30</td>\n",
              "      <td>8</td>\n",
              "      <td>Obese</td>\n",
              "      <td>140/90</td>\n",
              "      <td>85</td>\n",
              "      <td>3000</td>\n",
              "      <td>Sleep Apnea</td>\n",
              "    </tr>\n",
              "    <tr>\n",
              "      <th>4</th>\n",
              "      <td>5</td>\n",
              "      <td>Male</td>\n",
              "      <td>28</td>\n",
              "      <td>Sales Representative</td>\n",
              "      <td>5.9</td>\n",
              "      <td>4</td>\n",
              "      <td>30</td>\n",
              "      <td>8</td>\n",
              "      <td>Obese</td>\n",
              "      <td>140/90</td>\n",
              "      <td>85</td>\n",
              "      <td>3000</td>\n",
              "      <td>Sleep Apnea</td>\n",
              "    </tr>\n",
              "  </tbody>\n",
              "</table>\n",
              "</div>\n",
              "    <div class=\"colab-df-buttons\">\n",
              "\n",
              "  <div class=\"colab-df-container\">\n",
              "    <button class=\"colab-df-convert\" onclick=\"convertToInteractive('df-f508d2cb-fb77-47cf-9a39-33fc507325d3')\"\n",
              "            title=\"Convert this dataframe to an interactive table.\"\n",
              "            style=\"display:none;\">\n",
              "\n",
              "  <svg xmlns=\"http://www.w3.org/2000/svg\" height=\"24px\" viewBox=\"0 -960 960 960\">\n",
              "    <path d=\"M120-120v-720h720v720H120Zm60-500h600v-160H180v160Zm220 220h160v-160H400v160Zm0 220h160v-160H400v160ZM180-400h160v-160H180v160Zm440 0h160v-160H620v160ZM180-180h160v-160H180v160Zm440 0h160v-160H620v160Z\"/>\n",
              "  </svg>\n",
              "    </button>\n",
              "\n",
              "  <style>\n",
              "    .colab-df-container {\n",
              "      display:flex;\n",
              "      gap: 12px;\n",
              "    }\n",
              "\n",
              "    .colab-df-convert {\n",
              "      background-color: #E8F0FE;\n",
              "      border: none;\n",
              "      border-radius: 50%;\n",
              "      cursor: pointer;\n",
              "      display: none;\n",
              "      fill: #1967D2;\n",
              "      height: 32px;\n",
              "      padding: 0 0 0 0;\n",
              "      width: 32px;\n",
              "    }\n",
              "\n",
              "    .colab-df-convert:hover {\n",
              "      background-color: #E2EBFA;\n",
              "      box-shadow: 0px 1px 2px rgba(60, 64, 67, 0.3), 0px 1px 3px 1px rgba(60, 64, 67, 0.15);\n",
              "      fill: #174EA6;\n",
              "    }\n",
              "\n",
              "    .colab-df-buttons div {\n",
              "      margin-bottom: 4px;\n",
              "    }\n",
              "\n",
              "    [theme=dark] .colab-df-convert {\n",
              "      background-color: #3B4455;\n",
              "      fill: #D2E3FC;\n",
              "    }\n",
              "\n",
              "    [theme=dark] .colab-df-convert:hover {\n",
              "      background-color: #434B5C;\n",
              "      box-shadow: 0px 1px 3px 1px rgba(0, 0, 0, 0.15);\n",
              "      filter: drop-shadow(0px 1px 2px rgba(0, 0, 0, 0.3));\n",
              "      fill: #FFFFFF;\n",
              "    }\n",
              "  </style>\n",
              "\n",
              "    <script>\n",
              "      const buttonEl =\n",
              "        document.querySelector('#df-f508d2cb-fb77-47cf-9a39-33fc507325d3 button.colab-df-convert');\n",
              "      buttonEl.style.display =\n",
              "        google.colab.kernel.accessAllowed ? 'block' : 'none';\n",
              "\n",
              "      async function convertToInteractive(key) {\n",
              "        const element = document.querySelector('#df-f508d2cb-fb77-47cf-9a39-33fc507325d3');\n",
              "        const dataTable =\n",
              "          await google.colab.kernel.invokeFunction('convertToInteractive',\n",
              "                                                    [key], {});\n",
              "        if (!dataTable) return;\n",
              "\n",
              "        const docLinkHtml = 'Like what you see? Visit the ' +\n",
              "          '<a target=\"_blank\" href=https://colab.research.google.com/notebooks/data_table.ipynb>data table notebook</a>'\n",
              "          + ' to learn more about interactive tables.';\n",
              "        element.innerHTML = '';\n",
              "        dataTable['output_type'] = 'display_data';\n",
              "        await google.colab.output.renderOutput(dataTable, element);\n",
              "        const docLink = document.createElement('div');\n",
              "        docLink.innerHTML = docLinkHtml;\n",
              "        element.appendChild(docLink);\n",
              "      }\n",
              "    </script>\n",
              "  </div>\n",
              "\n",
              "\n",
              "<div id=\"df-5369233b-6723-4506-ac4a-751c88a05ff2\">\n",
              "  <button class=\"colab-df-quickchart\" onclick=\"quickchart('df-5369233b-6723-4506-ac4a-751c88a05ff2')\"\n",
              "            title=\"Suggest charts\"\n",
              "            style=\"display:none;\">\n",
              "\n",
              "<svg xmlns=\"http://www.w3.org/2000/svg\" height=\"24px\"viewBox=\"0 0 24 24\"\n",
              "     width=\"24px\">\n",
              "    <g>\n",
              "        <path d=\"M19 3H5c-1.1 0-2 .9-2 2v14c0 1.1.9 2 2 2h14c1.1 0 2-.9 2-2V5c0-1.1-.9-2-2-2zM9 17H7v-7h2v7zm4 0h-2V7h2v10zm4 0h-2v-4h2v4z\"/>\n",
              "    </g>\n",
              "</svg>\n",
              "  </button>\n",
              "\n",
              "<style>\n",
              "  .colab-df-quickchart {\n",
              "      --bg-color: #E8F0FE;\n",
              "      --fill-color: #1967D2;\n",
              "      --hover-bg-color: #E2EBFA;\n",
              "      --hover-fill-color: #174EA6;\n",
              "      --disabled-fill-color: #AAA;\n",
              "      --disabled-bg-color: #DDD;\n",
              "  }\n",
              "\n",
              "  [theme=dark] .colab-df-quickchart {\n",
              "      --bg-color: #3B4455;\n",
              "      --fill-color: #D2E3FC;\n",
              "      --hover-bg-color: #434B5C;\n",
              "      --hover-fill-color: #FFFFFF;\n",
              "      --disabled-bg-color: #3B4455;\n",
              "      --disabled-fill-color: #666;\n",
              "  }\n",
              "\n",
              "  .colab-df-quickchart {\n",
              "    background-color: var(--bg-color);\n",
              "    border: none;\n",
              "    border-radius: 50%;\n",
              "    cursor: pointer;\n",
              "    display: none;\n",
              "    fill: var(--fill-color);\n",
              "    height: 32px;\n",
              "    padding: 0;\n",
              "    width: 32px;\n",
              "  }\n",
              "\n",
              "  .colab-df-quickchart:hover {\n",
              "    background-color: var(--hover-bg-color);\n",
              "    box-shadow: 0 1px 2px rgba(60, 64, 67, 0.3), 0 1px 3px 1px rgba(60, 64, 67, 0.15);\n",
              "    fill: var(--button-hover-fill-color);\n",
              "  }\n",
              "\n",
              "  .colab-df-quickchart-complete:disabled,\n",
              "  .colab-df-quickchart-complete:disabled:hover {\n",
              "    background-color: var(--disabled-bg-color);\n",
              "    fill: var(--disabled-fill-color);\n",
              "    box-shadow: none;\n",
              "  }\n",
              "\n",
              "  .colab-df-spinner {\n",
              "    border: 2px solid var(--fill-color);\n",
              "    border-color: transparent;\n",
              "    border-bottom-color: var(--fill-color);\n",
              "    animation:\n",
              "      spin 1s steps(1) infinite;\n",
              "  }\n",
              "\n",
              "  @keyframes spin {\n",
              "    0% {\n",
              "      border-color: transparent;\n",
              "      border-bottom-color: var(--fill-color);\n",
              "      border-left-color: var(--fill-color);\n",
              "    }\n",
              "    20% {\n",
              "      border-color: transparent;\n",
              "      border-left-color: var(--fill-color);\n",
              "      border-top-color: var(--fill-color);\n",
              "    }\n",
              "    30% {\n",
              "      border-color: transparent;\n",
              "      border-left-color: var(--fill-color);\n",
              "      border-top-color: var(--fill-color);\n",
              "      border-right-color: var(--fill-color);\n",
              "    }\n",
              "    40% {\n",
              "      border-color: transparent;\n",
              "      border-right-color: var(--fill-color);\n",
              "      border-top-color: var(--fill-color);\n",
              "    }\n",
              "    60% {\n",
              "      border-color: transparent;\n",
              "      border-right-color: var(--fill-color);\n",
              "    }\n",
              "    80% {\n",
              "      border-color: transparent;\n",
              "      border-right-color: var(--fill-color);\n",
              "      border-bottom-color: var(--fill-color);\n",
              "    }\n",
              "    90% {\n",
              "      border-color: transparent;\n",
              "      border-bottom-color: var(--fill-color);\n",
              "    }\n",
              "  }\n",
              "</style>\n",
              "\n",
              "  <script>\n",
              "    async function quickchart(key) {\n",
              "      const quickchartButtonEl =\n",
              "        document.querySelector('#' + key + ' button');\n",
              "      quickchartButtonEl.disabled = true;  // To prevent multiple clicks.\n",
              "      quickchartButtonEl.classList.add('colab-df-spinner');\n",
              "      try {\n",
              "        const charts = await google.colab.kernel.invokeFunction(\n",
              "            'suggestCharts', [key], {});\n",
              "      } catch (error) {\n",
              "        console.error('Error during call to suggestCharts:', error);\n",
              "      }\n",
              "      quickchartButtonEl.classList.remove('colab-df-spinner');\n",
              "      quickchartButtonEl.classList.add('colab-df-quickchart-complete');\n",
              "    }\n",
              "    (() => {\n",
              "      let quickchartButtonEl =\n",
              "        document.querySelector('#df-5369233b-6723-4506-ac4a-751c88a05ff2 button');\n",
              "      quickchartButtonEl.style.display =\n",
              "        google.colab.kernel.accessAllowed ? 'block' : 'none';\n",
              "    })();\n",
              "  </script>\n",
              "</div>\n",
              "    </div>\n",
              "  </div>\n"
            ],
            "application/vnd.google.colaboratory.intrinsic+json": {
              "type": "dataframe",
              "variable_name": "raw_data",
              "summary": "{\n  \"name\": \"raw_data\",\n  \"rows\": 374,\n  \"fields\": [\n    {\n      \"column\": \"Person ID\",\n      \"properties\": {\n        \"dtype\": \"number\",\n        \"std\": 108,\n        \"min\": 1,\n        \"max\": 374,\n        \"num_unique_values\": 374,\n        \"samples\": [\n          330,\n          34,\n          16\n        ],\n        \"semantic_type\": \"\",\n        \"description\": \"\"\n      }\n    },\n    {\n      \"column\": \"Gender\",\n      \"properties\": {\n        \"dtype\": \"category\",\n        \"num_unique_values\": 2,\n        \"samples\": [\n          \"Female\",\n          \"Male\"\n        ],\n        \"semantic_type\": \"\",\n        \"description\": \"\"\n      }\n    },\n    {\n      \"column\": \"Age\",\n      \"properties\": {\n        \"dtype\": \"number\",\n        \"std\": 8,\n        \"min\": 27,\n        \"max\": 59,\n        \"num_unique_values\": 31,\n        \"samples\": [\n          56,\n          42\n        ],\n        \"semantic_type\": \"\",\n        \"description\": \"\"\n      }\n    },\n    {\n      \"column\": \"Occupation\",\n      \"properties\": {\n        \"dtype\": \"category\",\n        \"num_unique_values\": 11,\n        \"samples\": [\n          \"Engineer\",\n          \"Software Engineer\"\n        ],\n        \"semantic_type\": \"\",\n        \"description\": \"\"\n      }\n    },\n    {\n      \"column\": \"Sleep Duration\",\n      \"properties\": {\n        \"dtype\": \"number\",\n        \"std\": 0.7956567308898189,\n        \"min\": 5.8,\n        \"max\": 8.5,\n        \"num_unique_values\": 27,\n        \"samples\": [\n          7.7,\n          5.8\n        ],\n        \"semantic_type\": \"\",\n        \"description\": \"\"\n      }\n    },\n    {\n      \"column\": \"Quality of Sleep\",\n      \"properties\": {\n        \"dtype\": \"number\",\n        \"std\": 1,\n        \"min\": 4,\n        \"max\": 9,\n        \"num_unique_values\": 6,\n        \"samples\": [\n          6,\n          4\n        ],\n        \"semantic_type\": \"\",\n        \"description\": \"\"\n      }\n    },\n    {\n      \"column\": \"Physical Activity Level\",\n      \"properties\": {\n        \"dtype\": \"number\",\n        \"std\": 20,\n        \"min\": 30,\n        \"max\": 90,\n        \"num_unique_values\": 16,\n        \"samples\": [\n          42,\n          60\n        ],\n        \"semantic_type\": \"\",\n        \"description\": \"\"\n      }\n    },\n    {\n      \"column\": \"Stress Level\",\n      \"properties\": {\n        \"dtype\": \"number\",\n        \"std\": 1,\n        \"min\": 3,\n        \"max\": 8,\n        \"num_unique_values\": 6,\n        \"samples\": [\n          6,\n          8\n        ],\n        \"semantic_type\": \"\",\n        \"description\": \"\"\n      }\n    },\n    {\n      \"column\": \"BMI Category\",\n      \"properties\": {\n        \"dtype\": \"category\",\n        \"num_unique_values\": 4,\n        \"samples\": [\n          \"Normal\",\n          \"Normal Weight\"\n        ],\n        \"semantic_type\": \"\",\n        \"description\": \"\"\n      }\n    },\n    {\n      \"column\": \"Blood Pressure\",\n      \"properties\": {\n        \"dtype\": \"category\",\n        \"num_unique_values\": 25,\n        \"samples\": [\n          \"128/85\",\n          \"119/77\"\n        ],\n        \"semantic_type\": \"\",\n        \"description\": \"\"\n      }\n    },\n    {\n      \"column\": \"Heart Rate\",\n      \"properties\": {\n        \"dtype\": \"number\",\n        \"std\": 4,\n        \"min\": 65,\n        \"max\": 86,\n        \"num_unique_values\": 19,\n        \"samples\": [\n          77,\n          80\n        ],\n        \"semantic_type\": \"\",\n        \"description\": \"\"\n      }\n    },\n    {\n      \"column\": \"Daily Steps\",\n      \"properties\": {\n        \"dtype\": \"number\",\n        \"std\": 1617,\n        \"min\": 3000,\n        \"max\": 10000,\n        \"num_unique_values\": 20,\n        \"samples\": [\n          4200,\n          6200\n        ],\n        \"semantic_type\": \"\",\n        \"description\": \"\"\n      }\n    },\n    {\n      \"column\": \"Sleep Disorder\",\n      \"properties\": {\n        \"dtype\": \"category\",\n        \"num_unique_values\": 2,\n        \"samples\": [\n          \"Insomnia\",\n          \"Sleep Apnea\"\n        ],\n        \"semantic_type\": \"\",\n        \"description\": \"\"\n      }\n    }\n  ]\n}"
            }
          },
          "metadata": {},
          "execution_count": 8
        }
      ]
    },
    {
      "cell_type": "markdown",
      "source": [
        "Information of data type of dataset"
      ],
      "metadata": {
        "id": "3QNEp5iR346s"
      }
    },
    {
      "cell_type": "code",
      "source": [
        "raw_data.info()"
      ],
      "metadata": {
        "colab": {
          "base_uri": "https://localhost:8080/"
        },
        "id": "uQsf_WZj4Td5",
        "outputId": "0b9e2398-3c8d-40c9-9b81-48afe01d0af8"
      },
      "execution_count": 9,
      "outputs": [
        {
          "output_type": "stream",
          "name": "stdout",
          "text": [
            "<class 'pandas.core.frame.DataFrame'>\n",
            "RangeIndex: 374 entries, 0 to 373\n",
            "Data columns (total 13 columns):\n",
            " #   Column                   Non-Null Count  Dtype  \n",
            "---  ------                   --------------  -----  \n",
            " 0   Person ID                374 non-null    int64  \n",
            " 1   Gender                   374 non-null    object \n",
            " 2   Age                      374 non-null    int64  \n",
            " 3   Occupation               374 non-null    object \n",
            " 4   Sleep Duration           374 non-null    float64\n",
            " 5   Quality of Sleep         374 non-null    int64  \n",
            " 6   Physical Activity Level  374 non-null    int64  \n",
            " 7   Stress Level             374 non-null    int64  \n",
            " 8   BMI Category             374 non-null    object \n",
            " 9   Blood Pressure           374 non-null    object \n",
            " 10  Heart Rate               374 non-null    int64  \n",
            " 11  Daily Steps              374 non-null    int64  \n",
            " 12  Sleep Disorder           155 non-null    object \n",
            "dtypes: float64(1), int64(7), object(5)\n",
            "memory usage: 38.1+ KB\n"
          ]
        }
      ]
    },
    {
      "cell_type": "markdown",
      "source": [
        "# Exploratory Data Analysis"
      ],
      "metadata": {
        "id": "kGMgEOEh4jh-"
      }
    },
    {
      "cell_type": "markdown",
      "source": [
        "Check missing"
      ],
      "metadata": {
        "id": "NPXteYDnBMFZ"
      }
    },
    {
      "cell_type": "code",
      "source": [
        "# check missing info\n",
        "raw_data.isna().sum()"
      ],
      "metadata": {
        "colab": {
          "base_uri": "https://localhost:8080/"
        },
        "id": "-GGi7Swf5Clo",
        "outputId": "1bd77f40-f62f-4f95-dd82-3ea80f0e1288"
      },
      "execution_count": 10,
      "outputs": [
        {
          "output_type": "execute_result",
          "data": {
            "text/plain": [
              "Person ID                    0\n",
              "Gender                       0\n",
              "Age                          0\n",
              "Occupation                   0\n",
              "Sleep Duration               0\n",
              "Quality of Sleep             0\n",
              "Physical Activity Level      0\n",
              "Stress Level                 0\n",
              "BMI Category                 0\n",
              "Blood Pressure               0\n",
              "Heart Rate                   0\n",
              "Daily Steps                  0\n",
              "Sleep Disorder             219\n",
              "dtype: int64"
            ]
          },
          "metadata": {},
          "execution_count": 10
        }
      ]
    },
    {
      "cell_type": "code",
      "source": [
        "raw_data['Sleep Disorder'].unique()"
      ],
      "metadata": {
        "colab": {
          "base_uri": "https://localhost:8080/"
        },
        "id": "1ra_v3P63Tl_",
        "outputId": "7387d909-9097-43b2-e7c4-d1cf14413325"
      },
      "execution_count": 11,
      "outputs": [
        {
          "output_type": "execute_result",
          "data": {
            "text/plain": [
              "array([nan, 'Sleep Apnea', 'Insomnia'], dtype=object)"
            ]
          },
          "metadata": {},
          "execution_count": 11
        }
      ]
    },
    {
      "cell_type": "code",
      "source": [
        "# Replace NaN to No Disorder\n",
        "raw_data['Sleep Disorder'] = raw_data['Sleep Disorder'].fillna('No Disorder')\n",
        "raw_data[raw_data['Sleep Disorder']=='No Disorder'].shape"
      ],
      "metadata": {
        "colab": {
          "base_uri": "https://localhost:8080/"
        },
        "id": "6PMXeSic8ERO",
        "outputId": "b7bf6626-f926-4cd2-d38d-654932b21f58"
      },
      "execution_count": 15,
      "outputs": [
        {
          "output_type": "execute_result",
          "data": {
            "text/plain": [
              "(219, 13)"
            ]
          },
          "metadata": {},
          "execution_count": 15
        }
      ]
    },
    {
      "cell_type": "markdown",
      "source": [
        "\n",
        "219 records and 13 features\n",
        "\n"
      ],
      "metadata": {
        "id": "coR--RYa3nSh"
      }
    },
    {
      "cell_type": "code",
      "source": [
        "#validate no missing info\n",
        "raw_data.isna().sum()"
      ],
      "metadata": {
        "colab": {
          "base_uri": "https://localhost:8080/"
        },
        "id": "g3iYm9SI9voZ",
        "outputId": "7a834544-28a5-496b-be54-feb1bfd3b902"
      },
      "execution_count": 16,
      "outputs": [
        {
          "output_type": "execute_result",
          "data": {
            "text/plain": [
              "Person ID                  0\n",
              "Gender                     0\n",
              "Age                        0\n",
              "Occupation                 0\n",
              "Sleep Duration             0\n",
              "Quality of Sleep           0\n",
              "Physical Activity Level    0\n",
              "Stress Level               0\n",
              "BMI Category               0\n",
              "Blood Pressure             0\n",
              "Heart Rate                 0\n",
              "Daily Steps                0\n",
              "Sleep Disorder             0\n",
              "dtype: int64"
            ]
          },
          "metadata": {},
          "execution_count": 16
        }
      ]
    },
    {
      "cell_type": "code",
      "source": [
        "raw_data.info()"
      ],
      "metadata": {
        "colab": {
          "base_uri": "https://localhost:8080/"
        },
        "id": "LSY0Al0934vg",
        "outputId": "2afb5b0d-a0f5-4d74-b940-5b2402af26b2"
      },
      "execution_count": 17,
      "outputs": [
        {
          "output_type": "stream",
          "name": "stdout",
          "text": [
            "<class 'pandas.core.frame.DataFrame'>\n",
            "RangeIndex: 374 entries, 0 to 373\n",
            "Data columns (total 13 columns):\n",
            " #   Column                   Non-Null Count  Dtype  \n",
            "---  ------                   --------------  -----  \n",
            " 0   Person ID                374 non-null    int64  \n",
            " 1   Gender                   374 non-null    object \n",
            " 2   Age                      374 non-null    int64  \n",
            " 3   Occupation               374 non-null    object \n",
            " 4   Sleep Duration           374 non-null    float64\n",
            " 5   Quality of Sleep         374 non-null    int64  \n",
            " 6   Physical Activity Level  374 non-null    int64  \n",
            " 7   Stress Level             374 non-null    int64  \n",
            " 8   BMI Category             374 non-null    object \n",
            " 9   Blood Pressure           374 non-null    object \n",
            " 10  Heart Rate               374 non-null    int64  \n",
            " 11  Daily Steps              374 non-null    int64  \n",
            " 12  Sleep Disorder           374 non-null    object \n",
            "dtypes: float64(1), int64(7), object(5)\n",
            "memory usage: 38.1+ KB\n"
          ]
        }
      ]
    },
    {
      "cell_type": "markdown",
      "source": [
        "5 features categorical and the others numeric"
      ],
      "metadata": {
        "id": "fiAxZKeC38a5"
      }
    },
    {
      "cell_type": "markdown",
      "source": [
        "## Columns containing nominal categorical data unique values\n",
        "\n",
        " (stored as the category data type)\n"
      ],
      "metadata": {
        "id": "-8fvM2Bh6VTY"
      }
    },
    {
      "cell_type": "code",
      "source": [
        "object_variables = [col for col in raw_data.columns if raw_data[col].dtype == 'O']\n",
        "print(object_variables)\n",
        "\n",
        "# list of features nominal\n",
        "print(raw_data[object_variables].dtypes) # validate type of features\n",
        "\n",
        "# raw_data[object_variables] = raw_data[object_variables].astype(dtype='category')\n",
        "# print(raw_data[object_variables].dtypes) # validate type of features"
      ],
      "metadata": {
        "colab": {
          "base_uri": "https://localhost:8080/"
        },
        "id": "qQAjBwRk6XeY",
        "outputId": "61e01418-7be7-462f-ce3c-486f00a3f041"
      },
      "execution_count": 18,
      "outputs": [
        {
          "output_type": "stream",
          "name": "stdout",
          "text": [
            "['Gender', 'Occupation', 'BMI Category', 'Blood Pressure', 'Sleep Disorder']\n",
            "Gender            object\n",
            "Occupation        object\n",
            "BMI Category      object\n",
            "Blood Pressure    object\n",
            "Sleep Disorder    object\n",
            "dtype: object\n"
          ]
        }
      ]
    },
    {
      "cell_type": "code",
      "source": [
        "# unique values at each column categorical\n",
        "col=object_variables\n",
        "for col in raw_data:\n",
        "    print(f'{col.upper()}'.center(50, '*'))\n",
        "    print(f'{col}: {raw_data[col].unique()}', '\\n')"
      ],
      "metadata": {
        "colab": {
          "base_uri": "https://localhost:8080/"
        },
        "id": "petDCbC663wu",
        "outputId": "d8abcde0-4d84-42d1-9ed2-32e76663a5ea"
      },
      "execution_count": 19,
      "outputs": [
        {
          "output_type": "stream",
          "name": "stdout",
          "text": [
            "********************PERSON ID*********************\n",
            "Person ID: [  1   2   3   4   5   6   7   8   9  10  11  12  13  14  15  16  17  18\n",
            "  19  20  21  22  23  24  25  26  27  28  29  30  31  32  33  34  35  36\n",
            "  37  38  39  40  41  42  43  44  45  46  47  48  49  50  51  52  53  54\n",
            "  55  56  57  58  59  60  61  62  63  64  65  66  67  68  69  70  71  72\n",
            "  73  74  75  76  77  78  79  80  81  82  83  84  85  86  87  88  89  90\n",
            "  91  92  93  94  95  96  97  98  99 100 101 102 103 104 105 106 107 108\n",
            " 109 110 111 112 113 114 115 116 117 118 119 120 121 122 123 124 125 126\n",
            " 127 128 129 130 131 132 133 134 135 136 137 138 139 140 141 142 143 144\n",
            " 145 146 147 148 149 150 151 152 153 154 155 156 157 158 159 160 161 162\n",
            " 163 164 165 166 167 168 169 170 171 172 173 174 175 176 177 178 179 180\n",
            " 181 182 183 184 185 186 187 188 189 190 191 192 193 194 195 196 197 198\n",
            " 199 200 201 202 203 204 205 206 207 208 209 210 211 212 213 214 215 216\n",
            " 217 218 219 220 221 222 223 224 225 226 227 228 229 230 231 232 233 234\n",
            " 235 236 237 238 239 240 241 242 243 244 245 246 247 248 249 250 251 252\n",
            " 253 254 255 256 257 258 259 260 261 262 263 264 265 266 267 268 269 270\n",
            " 271 272 273 274 275 276 277 278 279 280 281 282 283 284 285 286 287 288\n",
            " 289 290 291 292 293 294 295 296 297 298 299 300 301 302 303 304 305 306\n",
            " 307 308 309 310 311 312 313 314 315 316 317 318 319 320 321 322 323 324\n",
            " 325 326 327 328 329 330 331 332 333 334 335 336 337 338 339 340 341 342\n",
            " 343 344 345 346 347 348 349 350 351 352 353 354 355 356 357 358 359 360\n",
            " 361 362 363 364 365 366 367 368 369 370 371 372 373 374] \n",
            "\n",
            "**********************GENDER**********************\n",
            "Gender: ['Male' 'Female'] \n",
            "\n",
            "***********************AGE************************\n",
            "Age: [27 28 29 30 31 32 33 34 35 36 37 38 39 40 41 42 43 44 45 48 49 50 51 52\n",
            " 53 54 55 56 57 58 59] \n",
            "\n",
            "********************OCCUPATION********************\n",
            "Occupation: ['Software Engineer' 'Doctor' 'Sales Representative' 'Teacher' 'Nurse'\n",
            " 'Engineer' 'Accountant' 'Scientist' 'Lawyer' 'Salesperson' 'Manager'] \n",
            "\n",
            "******************SLEEP DURATION******************\n",
            "Sleep Duration: [6.1 6.2 5.9 6.3 7.8 6.  6.5 7.6 7.7 7.9 6.4 7.5 7.2 5.8 6.7 7.3 7.4 7.1\n",
            " 6.6 6.9 8.  6.8 8.1 8.3 8.5 8.4 8.2] \n",
            "\n",
            "*****************QUALITY OF SLEEP*****************\n",
            "Quality of Sleep: [6 4 7 5 8 9] \n",
            "\n",
            "*************PHYSICAL ACTIVITY LEVEL**************\n",
            "Physical Activity Level: [42 60 30 40 75 35 45 50 32 70 80 55 90 47 65 85] \n",
            "\n",
            "*******************STRESS LEVEL*******************\n",
            "Stress Level: [6 8 7 4 3 5] \n",
            "\n",
            "*******************BMI CATEGORY*******************\n",
            "BMI Category: ['Overweight' 'Normal' 'Obese' 'Normal Weight'] \n",
            "\n",
            "******************BLOOD PRESSURE******************\n",
            "Blood Pressure: ['126/83' '125/80' '140/90' '120/80' '132/87' '130/86' '117/76' '118/76'\n",
            " '128/85' '131/86' '128/84' '115/75' '135/88' '129/84' '130/85' '115/78'\n",
            " '119/77' '121/79' '125/82' '135/90' '122/80' '142/92' '140/95' '139/91'\n",
            " '118/75'] \n",
            "\n",
            "********************HEART RATE********************\n",
            "Heart Rate: [77 75 85 82 70 80 78 69 72 68 76 81 65 84 74 67 73 83 86] \n",
            "\n",
            "*******************DAILY STEPS********************\n",
            "Daily Steps: [ 4200 10000  3000  3500  8000  4000  4100  6800  5000  7000  5500  5200\n",
            "  5600  3300  4800  7500  7300  6200  6000  3700] \n",
            "\n",
            "******************SLEEP DISORDER******************\n",
            "Sleep Disorder: ['No Disorder' 'Sleep Apnea' 'Insomnia'] \n",
            "\n"
          ]
        }
      ]
    },
    {
      "cell_type": "code",
      "source": [
        "# Iterate over each column\n",
        "for col in raw_data.columns:\n",
        "    # Check if the column is categorical\n",
        "    # if pd.api.types.is_categorical_dtype(raw_data[column]):\n",
        "    if raw_data[col].dtype == object:  # Checking if the column is of object type\n",
        "        # Get value counts and print\n",
        "        unique_values = raw_data[col].nunique()\n",
        "        print(f\"Unique values for '{col}': {unique_values}\")\n",
        "        print(\"Value counts for column '{}'\".format(col))\n",
        "        print(raw_data[col].value_counts())\n",
        "        print()"
      ],
      "metadata": {
        "colab": {
          "base_uri": "https://localhost:8080/"
        },
        "id": "d3Ixz40V-T1h",
        "outputId": "8008833b-4de2-4e7a-f3b5-c61c6b6a4e6f"
      },
      "execution_count": 24,
      "outputs": [
        {
          "output_type": "stream",
          "name": "stdout",
          "text": [
            "Unique values for 'Gender': 2\n",
            "Value counts for column 'Gender'\n",
            "Gender\n",
            "Male      189\n",
            "Female    185\n",
            "Name: count, dtype: int64\n",
            "\n",
            "Unique values for 'Occupation': 11\n",
            "Value counts for column 'Occupation'\n",
            "Occupation\n",
            "Nurse                   73\n",
            "Doctor                  71\n",
            "Engineer                63\n",
            "Lawyer                  47\n",
            "Teacher                 40\n",
            "Accountant              37\n",
            "Salesperson             32\n",
            "Software Engineer        4\n",
            "Scientist                4\n",
            "Sales Representative     2\n",
            "Manager                  1\n",
            "Name: count, dtype: int64\n",
            "\n",
            "Unique values for 'BMI Category': 4\n",
            "Value counts for column 'BMI Category'\n",
            "BMI Category\n",
            "Normal           195\n",
            "Overweight       148\n",
            "Normal Weight     21\n",
            "Obese             10\n",
            "Name: count, dtype: int64\n",
            "\n",
            "Unique values for 'Blood Pressure': 25\n",
            "Value counts for column 'Blood Pressure'\n",
            "Blood Pressure\n",
            "130/85    99\n",
            "140/95    65\n",
            "125/80    65\n",
            "120/80    45\n",
            "115/75    32\n",
            "135/90    27\n",
            "140/90     4\n",
            "125/82     4\n",
            "132/87     3\n",
            "128/85     3\n",
            "126/83     2\n",
            "115/78     2\n",
            "139/91     2\n",
            "142/92     2\n",
            "119/77     2\n",
            "135/88     2\n",
            "129/84     2\n",
            "128/84     2\n",
            "131/86     2\n",
            "117/76     2\n",
            "130/86     2\n",
            "118/75     2\n",
            "121/79     1\n",
            "122/80     1\n",
            "118/76     1\n",
            "Name: count, dtype: int64\n",
            "\n",
            "Unique values for 'Sleep Disorder': 3\n",
            "Value counts for column 'Sleep Disorder'\n",
            "Sleep Disorder\n",
            "No Disorder    219\n",
            "Sleep Apnea     78\n",
            "Insomnia        77\n",
            "Name: count, dtype: int64\n",
            "\n"
          ]
        }
      ]
    },
    {
      "cell_type": "code",
      "source": [
        "# replace normal weight to normal\n",
        "raw_data[\"BMI Category\"] = raw_data[\"BMI Category\"].replace(\"Normal Weight\", \"Normal\")\n",
        "\n",
        "raw_data[\"Occupation\"] = raw_data[\"Occupation\"].replace(\"Sales Representative\", \"Salesperson\")"
      ],
      "metadata": {
        "id": "gN3b-sT7_GDi"
      },
      "execution_count": 25,
      "outputs": []
    },
    {
      "cell_type": "code",
      "source": [
        "raw_data['BMI Category'].value_counts(), raw_data['Occupation'].value_counts()\n",
        "\n"
      ],
      "metadata": {
        "colab": {
          "base_uri": "https://localhost:8080/"
        },
        "id": "4W2Tss81_ejO",
        "outputId": "756cfb89-59a2-479e-db15-d1a06c1054cc"
      },
      "execution_count": 26,
      "outputs": [
        {
          "output_type": "execute_result",
          "data": {
            "text/plain": [
              "(BMI Category\n",
              " Normal        216\n",
              " Overweight    148\n",
              " Obese          10\n",
              " Name: count, dtype: int64,\n",
              " Occupation\n",
              " Nurse                73\n",
              " Doctor               71\n",
              " Engineer             63\n",
              " Lawyer               47\n",
              " Teacher              40\n",
              " Accountant           37\n",
              " Salesperson          34\n",
              " Software Engineer     4\n",
              " Scientist             4\n",
              " Manager               1\n",
              " Name: count, dtype: int64)"
            ]
          },
          "metadata": {},
          "execution_count": 26
        }
      ]
    },
    {
      "cell_type": "code",
      "source": [
        "# Check for duplicate rows\n",
        "duplicate_rows = raw_data[raw_data.duplicated()]\n",
        "duplicate_rows"
      ],
      "metadata": {
        "colab": {
          "base_uri": "https://localhost:8080/",
          "height": 53
        },
        "id": "Kn-PEbQO_e1A",
        "outputId": "8422f8bd-2537-4fe4-b428-c51401971b71"
      },
      "execution_count": 71,
      "outputs": [
        {
          "output_type": "execute_result",
          "data": {
            "text/plain": [
              "Empty DataFrame\n",
              "Columns: [Person ID, Gender, Age, Occupation, Sleep Duration, Quality of Sleep, Physical Activity Level, Stress Level, BMI Category, Blood Pressure, Heart Rate, Daily Steps, Sleep Disorder]\n",
              "Index: []"
            ],
            "text/html": [
              "\n",
              "  <div id=\"df-08e5238b-0c22-4224-bd83-f2180e96fdcf\" class=\"colab-df-container\">\n",
              "    <div>\n",
              "<style scoped>\n",
              "    .dataframe tbody tr th:only-of-type {\n",
              "        vertical-align: middle;\n",
              "    }\n",
              "\n",
              "    .dataframe tbody tr th {\n",
              "        vertical-align: top;\n",
              "    }\n",
              "\n",
              "    .dataframe thead th {\n",
              "        text-align: right;\n",
              "    }\n",
              "</style>\n",
              "<table border=\"1\" class=\"dataframe\">\n",
              "  <thead>\n",
              "    <tr style=\"text-align: right;\">\n",
              "      <th></th>\n",
              "      <th>Person ID</th>\n",
              "      <th>Gender</th>\n",
              "      <th>Age</th>\n",
              "      <th>Occupation</th>\n",
              "      <th>Sleep Duration</th>\n",
              "      <th>Quality of Sleep</th>\n",
              "      <th>Physical Activity Level</th>\n",
              "      <th>Stress Level</th>\n",
              "      <th>BMI Category</th>\n",
              "      <th>Blood Pressure</th>\n",
              "      <th>Heart Rate</th>\n",
              "      <th>Daily Steps</th>\n",
              "      <th>Sleep Disorder</th>\n",
              "    </tr>\n",
              "  </thead>\n",
              "  <tbody>\n",
              "  </tbody>\n",
              "</table>\n",
              "</div>\n",
              "    <div class=\"colab-df-buttons\">\n",
              "\n",
              "  <div class=\"colab-df-container\">\n",
              "    <button class=\"colab-df-convert\" onclick=\"convertToInteractive('df-08e5238b-0c22-4224-bd83-f2180e96fdcf')\"\n",
              "            title=\"Convert this dataframe to an interactive table.\"\n",
              "            style=\"display:none;\">\n",
              "\n",
              "  <svg xmlns=\"http://www.w3.org/2000/svg\" height=\"24px\" viewBox=\"0 -960 960 960\">\n",
              "    <path d=\"M120-120v-720h720v720H120Zm60-500h600v-160H180v160Zm220 220h160v-160H400v160Zm0 220h160v-160H400v160ZM180-400h160v-160H180v160Zm440 0h160v-160H620v160ZM180-180h160v-160H180v160Zm440 0h160v-160H620v160Z\"/>\n",
              "  </svg>\n",
              "    </button>\n",
              "\n",
              "  <style>\n",
              "    .colab-df-container {\n",
              "      display:flex;\n",
              "      gap: 12px;\n",
              "    }\n",
              "\n",
              "    .colab-df-convert {\n",
              "      background-color: #E8F0FE;\n",
              "      border: none;\n",
              "      border-radius: 50%;\n",
              "      cursor: pointer;\n",
              "      display: none;\n",
              "      fill: #1967D2;\n",
              "      height: 32px;\n",
              "      padding: 0 0 0 0;\n",
              "      width: 32px;\n",
              "    }\n",
              "\n",
              "    .colab-df-convert:hover {\n",
              "      background-color: #E2EBFA;\n",
              "      box-shadow: 0px 1px 2px rgba(60, 64, 67, 0.3), 0px 1px 3px 1px rgba(60, 64, 67, 0.15);\n",
              "      fill: #174EA6;\n",
              "    }\n",
              "\n",
              "    .colab-df-buttons div {\n",
              "      margin-bottom: 4px;\n",
              "    }\n",
              "\n",
              "    [theme=dark] .colab-df-convert {\n",
              "      background-color: #3B4455;\n",
              "      fill: #D2E3FC;\n",
              "    }\n",
              "\n",
              "    [theme=dark] .colab-df-convert:hover {\n",
              "      background-color: #434B5C;\n",
              "      box-shadow: 0px 1px 3px 1px rgba(0, 0, 0, 0.15);\n",
              "      filter: drop-shadow(0px 1px 2px rgba(0, 0, 0, 0.3));\n",
              "      fill: #FFFFFF;\n",
              "    }\n",
              "  </style>\n",
              "\n",
              "    <script>\n",
              "      const buttonEl =\n",
              "        document.querySelector('#df-08e5238b-0c22-4224-bd83-f2180e96fdcf button.colab-df-convert');\n",
              "      buttonEl.style.display =\n",
              "        google.colab.kernel.accessAllowed ? 'block' : 'none';\n",
              "\n",
              "      async function convertToInteractive(key) {\n",
              "        const element = document.querySelector('#df-08e5238b-0c22-4224-bd83-f2180e96fdcf');\n",
              "        const dataTable =\n",
              "          await google.colab.kernel.invokeFunction('convertToInteractive',\n",
              "                                                    [key], {});\n",
              "        if (!dataTable) return;\n",
              "\n",
              "        const docLinkHtml = 'Like what you see? Visit the ' +\n",
              "          '<a target=\"_blank\" href=https://colab.research.google.com/notebooks/data_table.ipynb>data table notebook</a>'\n",
              "          + ' to learn more about interactive tables.';\n",
              "        element.innerHTML = '';\n",
              "        dataTable['output_type'] = 'display_data';\n",
              "        await google.colab.output.renderOutput(dataTable, element);\n",
              "        const docLink = document.createElement('div');\n",
              "        docLink.innerHTML = docLinkHtml;\n",
              "        element.appendChild(docLink);\n",
              "      }\n",
              "    </script>\n",
              "  </div>\n",
              "\n",
              "    </div>\n",
              "  </div>\n"
            ],
            "application/vnd.google.colaboratory.intrinsic+json": {
              "type": "dataframe",
              "variable_name": "duplicate_rows",
              "repr_error": "Out of range float values are not JSON compliant: nan"
            }
          },
          "metadata": {},
          "execution_count": 71
        }
      ]
    },
    {
      "cell_type": "code",
      "source": [
        "# Check for duplicates in the subset of columns ['Person ID', 'Gender']\n",
        "duplicate_subset = raw_data[raw_data.duplicated(subset=['Person ID', 'Gender'], keep=False)]\n",
        "duplicate_subset"
      ],
      "metadata": {
        "colab": {
          "base_uri": "https://localhost:8080/",
          "height": 53
        },
        "id": "yEHqE_kuAPY4",
        "outputId": "68a34bac-a5ee-4bdb-de21-a6ce3db38618"
      },
      "execution_count": 72,
      "outputs": [
        {
          "output_type": "execute_result",
          "data": {
            "text/plain": [
              "Empty DataFrame\n",
              "Columns: [Person ID, Gender, Age, Occupation, Sleep Duration, Quality of Sleep, Physical Activity Level, Stress Level, BMI Category, Blood Pressure, Heart Rate, Daily Steps, Sleep Disorder]\n",
              "Index: []"
            ],
            "text/html": [
              "\n",
              "  <div id=\"df-a61fdb9a-615a-48e3-a149-5caea2ef5435\" class=\"colab-df-container\">\n",
              "    <div>\n",
              "<style scoped>\n",
              "    .dataframe tbody tr th:only-of-type {\n",
              "        vertical-align: middle;\n",
              "    }\n",
              "\n",
              "    .dataframe tbody tr th {\n",
              "        vertical-align: top;\n",
              "    }\n",
              "\n",
              "    .dataframe thead th {\n",
              "        text-align: right;\n",
              "    }\n",
              "</style>\n",
              "<table border=\"1\" class=\"dataframe\">\n",
              "  <thead>\n",
              "    <tr style=\"text-align: right;\">\n",
              "      <th></th>\n",
              "      <th>Person ID</th>\n",
              "      <th>Gender</th>\n",
              "      <th>Age</th>\n",
              "      <th>Occupation</th>\n",
              "      <th>Sleep Duration</th>\n",
              "      <th>Quality of Sleep</th>\n",
              "      <th>Physical Activity Level</th>\n",
              "      <th>Stress Level</th>\n",
              "      <th>BMI Category</th>\n",
              "      <th>Blood Pressure</th>\n",
              "      <th>Heart Rate</th>\n",
              "      <th>Daily Steps</th>\n",
              "      <th>Sleep Disorder</th>\n",
              "    </tr>\n",
              "  </thead>\n",
              "  <tbody>\n",
              "  </tbody>\n",
              "</table>\n",
              "</div>\n",
              "    <div class=\"colab-df-buttons\">\n",
              "\n",
              "  <div class=\"colab-df-container\">\n",
              "    <button class=\"colab-df-convert\" onclick=\"convertToInteractive('df-a61fdb9a-615a-48e3-a149-5caea2ef5435')\"\n",
              "            title=\"Convert this dataframe to an interactive table.\"\n",
              "            style=\"display:none;\">\n",
              "\n",
              "  <svg xmlns=\"http://www.w3.org/2000/svg\" height=\"24px\" viewBox=\"0 -960 960 960\">\n",
              "    <path d=\"M120-120v-720h720v720H120Zm60-500h600v-160H180v160Zm220 220h160v-160H400v160Zm0 220h160v-160H400v160ZM180-400h160v-160H180v160Zm440 0h160v-160H620v160ZM180-180h160v-160H180v160Zm440 0h160v-160H620v160Z\"/>\n",
              "  </svg>\n",
              "    </button>\n",
              "\n",
              "  <style>\n",
              "    .colab-df-container {\n",
              "      display:flex;\n",
              "      gap: 12px;\n",
              "    }\n",
              "\n",
              "    .colab-df-convert {\n",
              "      background-color: #E8F0FE;\n",
              "      border: none;\n",
              "      border-radius: 50%;\n",
              "      cursor: pointer;\n",
              "      display: none;\n",
              "      fill: #1967D2;\n",
              "      height: 32px;\n",
              "      padding: 0 0 0 0;\n",
              "      width: 32px;\n",
              "    }\n",
              "\n",
              "    .colab-df-convert:hover {\n",
              "      background-color: #E2EBFA;\n",
              "      box-shadow: 0px 1px 2px rgba(60, 64, 67, 0.3), 0px 1px 3px 1px rgba(60, 64, 67, 0.15);\n",
              "      fill: #174EA6;\n",
              "    }\n",
              "\n",
              "    .colab-df-buttons div {\n",
              "      margin-bottom: 4px;\n",
              "    }\n",
              "\n",
              "    [theme=dark] .colab-df-convert {\n",
              "      background-color: #3B4455;\n",
              "      fill: #D2E3FC;\n",
              "    }\n",
              "\n",
              "    [theme=dark] .colab-df-convert:hover {\n",
              "      background-color: #434B5C;\n",
              "      box-shadow: 0px 1px 3px 1px rgba(0, 0, 0, 0.15);\n",
              "      filter: drop-shadow(0px 1px 2px rgba(0, 0, 0, 0.3));\n",
              "      fill: #FFFFFF;\n",
              "    }\n",
              "  </style>\n",
              "\n",
              "    <script>\n",
              "      const buttonEl =\n",
              "        document.querySelector('#df-a61fdb9a-615a-48e3-a149-5caea2ef5435 button.colab-df-convert');\n",
              "      buttonEl.style.display =\n",
              "        google.colab.kernel.accessAllowed ? 'block' : 'none';\n",
              "\n",
              "      async function convertToInteractive(key) {\n",
              "        const element = document.querySelector('#df-a61fdb9a-615a-48e3-a149-5caea2ef5435');\n",
              "        const dataTable =\n",
              "          await google.colab.kernel.invokeFunction('convertToInteractive',\n",
              "                                                    [key], {});\n",
              "        if (!dataTable) return;\n",
              "\n",
              "        const docLinkHtml = 'Like what you see? Visit the ' +\n",
              "          '<a target=\"_blank\" href=https://colab.research.google.com/notebooks/data_table.ipynb>data table notebook</a>'\n",
              "          + ' to learn more about interactive tables.';\n",
              "        element.innerHTML = '';\n",
              "        dataTable['output_type'] = 'display_data';\n",
              "        await google.colab.output.renderOutput(dataTable, element);\n",
              "        const docLink = document.createElement('div');\n",
              "        docLink.innerHTML = docLinkHtml;\n",
              "        element.appendChild(docLink);\n",
              "      }\n",
              "    </script>\n",
              "  </div>\n",
              "\n",
              "    </div>\n",
              "  </div>\n"
            ],
            "application/vnd.google.colaboratory.intrinsic+json": {
              "type": "dataframe",
              "variable_name": "duplicate_subset",
              "repr_error": "Out of range float values are not JSON compliant: nan"
            }
          },
          "metadata": {},
          "execution_count": 72
        }
      ]
    },
    {
      "cell_type": "markdown",
      "source": [
        "doesn't exist duplicate records"
      ],
      "metadata": {
        "id": "9qfB_ML0AUz5"
      }
    },
    {
      "cell_type": "markdown",
      "source": [
        "## Summarize the Data"
      ],
      "metadata": {
        "id": "FVffu-T_BZfp"
      }
    },
    {
      "cell_type": "markdown",
      "source": [
        "Check outliers and basic stat of numeric fields"
      ],
      "metadata": {
        "id": "9LRmCxXW43zj"
      }
    },
    {
      "cell_type": "code",
      "source": [
        "raw_data.describe().T"
      ],
      "metadata": {
        "colab": {
          "base_uri": "https://localhost:8080/",
          "height": 300
        },
        "id": "BuyuODw94XvM",
        "outputId": "1d96f6f3-d0de-4cd2-ab5e-b414ac8dc5d1"
      },
      "execution_count": 73,
      "outputs": [
        {
          "output_type": "execute_result",
          "data": {
            "text/plain": [
              "                         count         mean          std     min      25%  \\\n",
              "Person ID                374.0   187.500000   108.108742     1.0    94.25   \n",
              "Age                      374.0    42.184492     8.673133    27.0    35.25   \n",
              "Sleep Duration           374.0     7.132086     0.795657     5.8     6.40   \n",
              "Quality of Sleep         374.0     7.312834     1.196956     4.0     6.00   \n",
              "Physical Activity Level  374.0    59.171123    20.830804    30.0    45.00   \n",
              "Stress Level             374.0     5.385027     1.774526     3.0     4.00   \n",
              "Heart Rate               374.0    70.165775     4.135676    65.0    68.00   \n",
              "Daily Steps              374.0  6816.844920  1617.915679  3000.0  5600.00   \n",
              "\n",
              "                            50%      75%      max  \n",
              "Person ID                 187.5   280.75    374.0  \n",
              "Age                        43.0    50.00     59.0  \n",
              "Sleep Duration              7.2     7.80      8.5  \n",
              "Quality of Sleep            7.0     8.00      9.0  \n",
              "Physical Activity Level    60.0    75.00     90.0  \n",
              "Stress Level                5.0     7.00      8.0  \n",
              "Heart Rate                 70.0    72.00     86.0  \n",
              "Daily Steps              7000.0  8000.00  10000.0  "
            ],
            "text/html": [
              "\n",
              "  <div id=\"df-5d94f95f-b5b7-4856-9980-63db36c3fc4e\" class=\"colab-df-container\">\n",
              "    <div>\n",
              "<style scoped>\n",
              "    .dataframe tbody tr th:only-of-type {\n",
              "        vertical-align: middle;\n",
              "    }\n",
              "\n",
              "    .dataframe tbody tr th {\n",
              "        vertical-align: top;\n",
              "    }\n",
              "\n",
              "    .dataframe thead th {\n",
              "        text-align: right;\n",
              "    }\n",
              "</style>\n",
              "<table border=\"1\" class=\"dataframe\">\n",
              "  <thead>\n",
              "    <tr style=\"text-align: right;\">\n",
              "      <th></th>\n",
              "      <th>count</th>\n",
              "      <th>mean</th>\n",
              "      <th>std</th>\n",
              "      <th>min</th>\n",
              "      <th>25%</th>\n",
              "      <th>50%</th>\n",
              "      <th>75%</th>\n",
              "      <th>max</th>\n",
              "    </tr>\n",
              "  </thead>\n",
              "  <tbody>\n",
              "    <tr>\n",
              "      <th>Person ID</th>\n",
              "      <td>374.0</td>\n",
              "      <td>187.500000</td>\n",
              "      <td>108.108742</td>\n",
              "      <td>1.0</td>\n",
              "      <td>94.25</td>\n",
              "      <td>187.5</td>\n",
              "      <td>280.75</td>\n",
              "      <td>374.0</td>\n",
              "    </tr>\n",
              "    <tr>\n",
              "      <th>Age</th>\n",
              "      <td>374.0</td>\n",
              "      <td>42.184492</td>\n",
              "      <td>8.673133</td>\n",
              "      <td>27.0</td>\n",
              "      <td>35.25</td>\n",
              "      <td>43.0</td>\n",
              "      <td>50.00</td>\n",
              "      <td>59.0</td>\n",
              "    </tr>\n",
              "    <tr>\n",
              "      <th>Sleep Duration</th>\n",
              "      <td>374.0</td>\n",
              "      <td>7.132086</td>\n",
              "      <td>0.795657</td>\n",
              "      <td>5.8</td>\n",
              "      <td>6.40</td>\n",
              "      <td>7.2</td>\n",
              "      <td>7.80</td>\n",
              "      <td>8.5</td>\n",
              "    </tr>\n",
              "    <tr>\n",
              "      <th>Quality of Sleep</th>\n",
              "      <td>374.0</td>\n",
              "      <td>7.312834</td>\n",
              "      <td>1.196956</td>\n",
              "      <td>4.0</td>\n",
              "      <td>6.00</td>\n",
              "      <td>7.0</td>\n",
              "      <td>8.00</td>\n",
              "      <td>9.0</td>\n",
              "    </tr>\n",
              "    <tr>\n",
              "      <th>Physical Activity Level</th>\n",
              "      <td>374.0</td>\n",
              "      <td>59.171123</td>\n",
              "      <td>20.830804</td>\n",
              "      <td>30.0</td>\n",
              "      <td>45.00</td>\n",
              "      <td>60.0</td>\n",
              "      <td>75.00</td>\n",
              "      <td>90.0</td>\n",
              "    </tr>\n",
              "    <tr>\n",
              "      <th>Stress Level</th>\n",
              "      <td>374.0</td>\n",
              "      <td>5.385027</td>\n",
              "      <td>1.774526</td>\n",
              "      <td>3.0</td>\n",
              "      <td>4.00</td>\n",
              "      <td>5.0</td>\n",
              "      <td>7.00</td>\n",
              "      <td>8.0</td>\n",
              "    </tr>\n",
              "    <tr>\n",
              "      <th>Heart Rate</th>\n",
              "      <td>374.0</td>\n",
              "      <td>70.165775</td>\n",
              "      <td>4.135676</td>\n",
              "      <td>65.0</td>\n",
              "      <td>68.00</td>\n",
              "      <td>70.0</td>\n",
              "      <td>72.00</td>\n",
              "      <td>86.0</td>\n",
              "    </tr>\n",
              "    <tr>\n",
              "      <th>Daily Steps</th>\n",
              "      <td>374.0</td>\n",
              "      <td>6816.844920</td>\n",
              "      <td>1617.915679</td>\n",
              "      <td>3000.0</td>\n",
              "      <td>5600.00</td>\n",
              "      <td>7000.0</td>\n",
              "      <td>8000.00</td>\n",
              "      <td>10000.0</td>\n",
              "    </tr>\n",
              "  </tbody>\n",
              "</table>\n",
              "</div>\n",
              "    <div class=\"colab-df-buttons\">\n",
              "\n",
              "  <div class=\"colab-df-container\">\n",
              "    <button class=\"colab-df-convert\" onclick=\"convertToInteractive('df-5d94f95f-b5b7-4856-9980-63db36c3fc4e')\"\n",
              "            title=\"Convert this dataframe to an interactive table.\"\n",
              "            style=\"display:none;\">\n",
              "\n",
              "  <svg xmlns=\"http://www.w3.org/2000/svg\" height=\"24px\" viewBox=\"0 -960 960 960\">\n",
              "    <path d=\"M120-120v-720h720v720H120Zm60-500h600v-160H180v160Zm220 220h160v-160H400v160Zm0 220h160v-160H400v160ZM180-400h160v-160H180v160Zm440 0h160v-160H620v160ZM180-180h160v-160H180v160Zm440 0h160v-160H620v160Z\"/>\n",
              "  </svg>\n",
              "    </button>\n",
              "\n",
              "  <style>\n",
              "    .colab-df-container {\n",
              "      display:flex;\n",
              "      gap: 12px;\n",
              "    }\n",
              "\n",
              "    .colab-df-convert {\n",
              "      background-color: #E8F0FE;\n",
              "      border: none;\n",
              "      border-radius: 50%;\n",
              "      cursor: pointer;\n",
              "      display: none;\n",
              "      fill: #1967D2;\n",
              "      height: 32px;\n",
              "      padding: 0 0 0 0;\n",
              "      width: 32px;\n",
              "    }\n",
              "\n",
              "    .colab-df-convert:hover {\n",
              "      background-color: #E2EBFA;\n",
              "      box-shadow: 0px 1px 2px rgba(60, 64, 67, 0.3), 0px 1px 3px 1px rgba(60, 64, 67, 0.15);\n",
              "      fill: #174EA6;\n",
              "    }\n",
              "\n",
              "    .colab-df-buttons div {\n",
              "      margin-bottom: 4px;\n",
              "    }\n",
              "\n",
              "    [theme=dark] .colab-df-convert {\n",
              "      background-color: #3B4455;\n",
              "      fill: #D2E3FC;\n",
              "    }\n",
              "\n",
              "    [theme=dark] .colab-df-convert:hover {\n",
              "      background-color: #434B5C;\n",
              "      box-shadow: 0px 1px 3px 1px rgba(0, 0, 0, 0.15);\n",
              "      filter: drop-shadow(0px 1px 2px rgba(0, 0, 0, 0.3));\n",
              "      fill: #FFFFFF;\n",
              "    }\n",
              "  </style>\n",
              "\n",
              "    <script>\n",
              "      const buttonEl =\n",
              "        document.querySelector('#df-5d94f95f-b5b7-4856-9980-63db36c3fc4e button.colab-df-convert');\n",
              "      buttonEl.style.display =\n",
              "        google.colab.kernel.accessAllowed ? 'block' : 'none';\n",
              "\n",
              "      async function convertToInteractive(key) {\n",
              "        const element = document.querySelector('#df-5d94f95f-b5b7-4856-9980-63db36c3fc4e');\n",
              "        const dataTable =\n",
              "          await google.colab.kernel.invokeFunction('convertToInteractive',\n",
              "                                                    [key], {});\n",
              "        if (!dataTable) return;\n",
              "\n",
              "        const docLinkHtml = 'Like what you see? Visit the ' +\n",
              "          '<a target=\"_blank\" href=https://colab.research.google.com/notebooks/data_table.ipynb>data table notebook</a>'\n",
              "          + ' to learn more about interactive tables.';\n",
              "        element.innerHTML = '';\n",
              "        dataTable['output_type'] = 'display_data';\n",
              "        await google.colab.output.renderOutput(dataTable, element);\n",
              "        const docLink = document.createElement('div');\n",
              "        docLink.innerHTML = docLinkHtml;\n",
              "        element.appendChild(docLink);\n",
              "      }\n",
              "    </script>\n",
              "  </div>\n",
              "\n",
              "\n",
              "<div id=\"df-ee9d4fe0-0823-4dd6-8295-3a8517eb6164\">\n",
              "  <button class=\"colab-df-quickchart\" onclick=\"quickchart('df-ee9d4fe0-0823-4dd6-8295-3a8517eb6164')\"\n",
              "            title=\"Suggest charts\"\n",
              "            style=\"display:none;\">\n",
              "\n",
              "<svg xmlns=\"http://www.w3.org/2000/svg\" height=\"24px\"viewBox=\"0 0 24 24\"\n",
              "     width=\"24px\">\n",
              "    <g>\n",
              "        <path d=\"M19 3H5c-1.1 0-2 .9-2 2v14c0 1.1.9 2 2 2h14c1.1 0 2-.9 2-2V5c0-1.1-.9-2-2-2zM9 17H7v-7h2v7zm4 0h-2V7h2v10zm4 0h-2v-4h2v4z\"/>\n",
              "    </g>\n",
              "</svg>\n",
              "  </button>\n",
              "\n",
              "<style>\n",
              "  .colab-df-quickchart {\n",
              "      --bg-color: #E8F0FE;\n",
              "      --fill-color: #1967D2;\n",
              "      --hover-bg-color: #E2EBFA;\n",
              "      --hover-fill-color: #174EA6;\n",
              "      --disabled-fill-color: #AAA;\n",
              "      --disabled-bg-color: #DDD;\n",
              "  }\n",
              "\n",
              "  [theme=dark] .colab-df-quickchart {\n",
              "      --bg-color: #3B4455;\n",
              "      --fill-color: #D2E3FC;\n",
              "      --hover-bg-color: #434B5C;\n",
              "      --hover-fill-color: #FFFFFF;\n",
              "      --disabled-bg-color: #3B4455;\n",
              "      --disabled-fill-color: #666;\n",
              "  }\n",
              "\n",
              "  .colab-df-quickchart {\n",
              "    background-color: var(--bg-color);\n",
              "    border: none;\n",
              "    border-radius: 50%;\n",
              "    cursor: pointer;\n",
              "    display: none;\n",
              "    fill: var(--fill-color);\n",
              "    height: 32px;\n",
              "    padding: 0;\n",
              "    width: 32px;\n",
              "  }\n",
              "\n",
              "  .colab-df-quickchart:hover {\n",
              "    background-color: var(--hover-bg-color);\n",
              "    box-shadow: 0 1px 2px rgba(60, 64, 67, 0.3), 0 1px 3px 1px rgba(60, 64, 67, 0.15);\n",
              "    fill: var(--button-hover-fill-color);\n",
              "  }\n",
              "\n",
              "  .colab-df-quickchart-complete:disabled,\n",
              "  .colab-df-quickchart-complete:disabled:hover {\n",
              "    background-color: var(--disabled-bg-color);\n",
              "    fill: var(--disabled-fill-color);\n",
              "    box-shadow: none;\n",
              "  }\n",
              "\n",
              "  .colab-df-spinner {\n",
              "    border: 2px solid var(--fill-color);\n",
              "    border-color: transparent;\n",
              "    border-bottom-color: var(--fill-color);\n",
              "    animation:\n",
              "      spin 1s steps(1) infinite;\n",
              "  }\n",
              "\n",
              "  @keyframes spin {\n",
              "    0% {\n",
              "      border-color: transparent;\n",
              "      border-bottom-color: var(--fill-color);\n",
              "      border-left-color: var(--fill-color);\n",
              "    }\n",
              "    20% {\n",
              "      border-color: transparent;\n",
              "      border-left-color: var(--fill-color);\n",
              "      border-top-color: var(--fill-color);\n",
              "    }\n",
              "    30% {\n",
              "      border-color: transparent;\n",
              "      border-left-color: var(--fill-color);\n",
              "      border-top-color: var(--fill-color);\n",
              "      border-right-color: var(--fill-color);\n",
              "    }\n",
              "    40% {\n",
              "      border-color: transparent;\n",
              "      border-right-color: var(--fill-color);\n",
              "      border-top-color: var(--fill-color);\n",
              "    }\n",
              "    60% {\n",
              "      border-color: transparent;\n",
              "      border-right-color: var(--fill-color);\n",
              "    }\n",
              "    80% {\n",
              "      border-color: transparent;\n",
              "      border-right-color: var(--fill-color);\n",
              "      border-bottom-color: var(--fill-color);\n",
              "    }\n",
              "    90% {\n",
              "      border-color: transparent;\n",
              "      border-bottom-color: var(--fill-color);\n",
              "    }\n",
              "  }\n",
              "</style>\n",
              "\n",
              "  <script>\n",
              "    async function quickchart(key) {\n",
              "      const quickchartButtonEl =\n",
              "        document.querySelector('#' + key + ' button');\n",
              "      quickchartButtonEl.disabled = true;  // To prevent multiple clicks.\n",
              "      quickchartButtonEl.classList.add('colab-df-spinner');\n",
              "      try {\n",
              "        const charts = await google.colab.kernel.invokeFunction(\n",
              "            'suggestCharts', [key], {});\n",
              "      } catch (error) {\n",
              "        console.error('Error during call to suggestCharts:', error);\n",
              "      }\n",
              "      quickchartButtonEl.classList.remove('colab-df-spinner');\n",
              "      quickchartButtonEl.classList.add('colab-df-quickchart-complete');\n",
              "    }\n",
              "    (() => {\n",
              "      let quickchartButtonEl =\n",
              "        document.querySelector('#df-ee9d4fe0-0823-4dd6-8295-3a8517eb6164 button');\n",
              "      quickchartButtonEl.style.display =\n",
              "        google.colab.kernel.accessAllowed ? 'block' : 'none';\n",
              "    })();\n",
              "  </script>\n",
              "</div>\n",
              "    </div>\n",
              "  </div>\n"
            ],
            "application/vnd.google.colaboratory.intrinsic+json": {
              "type": "dataframe",
              "summary": "{\n  \"name\": \"raw_data\",\n  \"rows\": 8,\n  \"fields\": [\n    {\n      \"column\": \"count\",\n      \"properties\": {\n        \"dtype\": \"number\",\n        \"std\": 0.0,\n        \"min\": 374.0,\n        \"max\": 374.0,\n        \"num_unique_values\": 1,\n        \"samples\": [\n          374.0\n        ],\n        \"semantic_type\": \"\",\n        \"description\": \"\"\n      }\n    },\n    {\n      \"column\": \"mean\",\n      \"properties\": {\n        \"dtype\": \"number\",\n        \"std\": 2391.7301766415576,\n        \"min\": 5.385026737967914,\n        \"max\": 6816.844919786096,\n        \"num_unique_values\": 8,\n        \"samples\": [\n          42.18449197860963\n        ],\n        \"semantic_type\": \"\",\n        \"description\": \"\"\n      }\n    },\n    {\n      \"column\": \"std\",\n      \"properties\": {\n        \"dtype\": \"number\",\n        \"std\": 565.8317419578746,\n        \"min\": 0.7956567308898189,\n        \"max\": 1617.915679133636,\n        \"num_unique_values\": 8,\n        \"samples\": [\n          8.673133465547243\n        ],\n        \"semantic_type\": \"\",\n        \"description\": \"\"\n      }\n    },\n    {\n      \"column\": \"min\",\n      \"properties\": {\n        \"dtype\": \"number\",\n        \"std\": 1054.0234773069742,\n        \"min\": 1.0,\n        \"max\": 3000.0,\n        \"num_unique_values\": 8,\n        \"samples\": [\n          27.0\n        ],\n        \"semantic_type\": \"\",\n        \"description\": \"\"\n      }\n    },\n    {\n      \"column\": \"25%\",\n      \"properties\": {\n        \"dtype\": \"number\",\n        \"std\": 1967.087365833411,\n        \"min\": 4.0,\n        \"max\": 5600.0,\n        \"num_unique_values\": 8,\n        \"samples\": [\n          35.25\n        ],\n        \"semantic_type\": \"\",\n        \"description\": \"\"\n      }\n    },\n    {\n      \"column\": \"50%\",\n      \"properties\": {\n        \"dtype\": \"number\",\n        \"std\": 2456.4240728212453,\n        \"min\": 5.0,\n        \"max\": 7000.0,\n        \"num_unique_values\": 8,\n        \"samples\": [\n          43.0\n        ],\n        \"semantic_type\": \"\",\n        \"description\": \"\"\n      }\n    },\n    {\n      \"column\": \"75%\",\n      \"properties\": {\n        \"dtype\": \"number\",\n        \"std\": 2804.5851390354,\n        \"min\": 7.0,\n        \"max\": 8000.0,\n        \"num_unique_values\": 8,\n        \"samples\": [\n          50.0\n        ],\n        \"semantic_type\": \"\",\n        \"description\": \"\"\n      }\n    },\n    {\n      \"column\": \"max\",\n      \"properties\": {\n        \"dtype\": \"number\",\n        \"std\": 3505.5567413699478,\n        \"min\": 8.0,\n        \"max\": 10000.0,\n        \"num_unique_values\": 8,\n        \"samples\": [\n          59.0\n        ],\n        \"semantic_type\": \"\",\n        \"description\": \"\"\n      }\n    }\n  ]\n}"
            }
          },
          "metadata": {},
          "execution_count": 73
        }
      ]
    },
    {
      "cell_type": "markdown",
      "source": [
        "## 1. Which occupation has the lowest average sleep duration? Save this in a string variable called `lowest_sleep_occ`."
      ],
      "metadata": {
        "id": "8oE_afNYP_e9"
      }
    },
    {
      "cell_type": "code",
      "source": [
        "# Groupby occupation and calculate mean sleep duration\n",
        "sleep_duration = raw_data.groupby('Occupation')['Sleep Duration'].mean()\n",
        "sleep_duration\n"
      ],
      "metadata": {
        "colab": {
          "base_uri": "https://localhost:8080/"
        },
        "id": "I_ryQgiADEoQ",
        "outputId": "8275602e-cba8-440a-a128-80a4e22b3ee1"
      },
      "execution_count": 75,
      "outputs": [
        {
          "output_type": "execute_result",
          "data": {
            "text/plain": [
              "Occupation\n",
              "Accountant           7.113514\n",
              "Doctor               6.970423\n",
              "Engineer             7.987302\n",
              "Lawyer               7.410638\n",
              "Manager              6.900000\n",
              "Nurse                7.063014\n",
              "Salesperson          6.373529\n",
              "Scientist            6.000000\n",
              "Software Engineer    6.750000\n",
              "Teacher              6.690000\n",
              "Name: Sleep Duration, dtype: float64"
            ]
          },
          "metadata": {},
          "execution_count": 75
        }
      ]
    },
    {
      "cell_type": "code",
      "source": [
        "# Get occupation with lowest average sleep duration\n",
        "lowest_sleep_occ = sleep_duration.sort_values().index[0] # sort ascending and get the first row\n",
        "lowest_sleep_occ"
      ],
      "metadata": {
        "colab": {
          "base_uri": "https://localhost:8080/",
          "height": 36
        },
        "id": "r84nCp0IP8f3",
        "outputId": "13ea59bd-6463-4ffc-a550-264b9848f323"
      },
      "execution_count": 76,
      "outputs": [
        {
          "output_type": "execute_result",
          "data": {
            "text/plain": [
              "'Scientist'"
            ],
            "application/vnd.google.colaboratory.intrinsic+json": {
              "type": "string"
            }
          },
          "metadata": {},
          "execution_count": 76
        }
      ]
    },
    {
      "cell_type": "markdown",
      "source": [
        "Occupation 'Scientist' is the one with less duration sleep"
      ],
      "metadata": {
        "id": "akscDEO0QLY9"
      }
    },
    {
      "cell_type": "markdown",
      "source": [
        "## 2. Which occupation had the lowest quality of on average? Did the occupation with the lowest sleep duration also have the worst sleep quality?"
      ],
      "metadata": {
        "id": "51eq-LAOQWuc"
      }
    },
    {
      "cell_type": "code",
      "source": [
        "\n",
        "# Groupby occupation and calculate average sleep quality\n",
        "sleep_quality = raw_data.groupby('Occupation')['Quality of Sleep'].mean()\n",
        "\n",
        "# Get occupation with lowest average sleep quality\n",
        "lowest_sleep_quality_occ = sleep_quality.sort_values().index[0]  # sort ascending and get the first row\n",
        "lowest_sleep_quality_occ"
      ],
      "metadata": {
        "colab": {
          "base_uri": "https://localhost:8080/",
          "height": 36
        },
        "id": "a2CAdKlcDVJ9",
        "outputId": "95f4104e-93d9-47c7-e2b6-69bddb90560e"
      },
      "execution_count": 77,
      "outputs": [
        {
          "output_type": "execute_result",
          "data": {
            "text/plain": [
              "'Scientist'"
            ],
            "application/vnd.google.colaboratory.intrinsic+json": {
              "type": "string"
            }
          },
          "metadata": {},
          "execution_count": 77
        }
      ]
    },
    {
      "cell_type": "markdown",
      "source": [
        "Occupation 'Scientist' is the one with lowest quality sleep"
      ],
      "metadata": {
        "id": "P9YE_zG9Qfq0"
      }
    },
    {
      "cell_type": "markdown",
      "source": [
        "## Compare occupation with the least sleep to occupation with the lowest sleep quality"
      ],
      "metadata": {
        "id": "Bpj3YrQDQncx"
      }
    },
    {
      "cell_type": "code",
      "source": [
        "if lowest_sleep_occ == lowest_sleep_quality_occ:\n",
        "  same_occ = True\n",
        "else:\n",
        "  same_occ = False\n",
        "\n",
        "same_occ"
      ],
      "metadata": {
        "colab": {
          "base_uri": "https://localhost:8080/"
        },
        "id": "CGt9CsZ2DcZq",
        "outputId": "b65b5627-46a6-43ad-9caf-581d9dce4766"
      },
      "execution_count": 32,
      "outputs": [
        {
          "output_type": "execute_result",
          "data": {
            "text/plain": [
              "True"
            ]
          },
          "metadata": {},
          "execution_count": 32
        }
      ]
    },
    {
      "cell_type": "markdown",
      "source": [
        "# 3. Let's explore how BMI Category can affect sleep disorder rates. Start by finding what ratio of app users in each BMI category have been diagnosed with Insomnia.\n",
        "\n",
        "- Filter all records with insomnia and BMI as normal, over and obese\n",
        "- Calc the racio for normal, over and obese\n"
      ],
      "metadata": {
        "id": "NXGmAaYTQreZ"
      }
    },
    {
      "cell_type": "code",
      "source": [
        "raw_data[\"BMI Category\"].unique(), raw_data[\"Sleep Disorder\"].unique()"
      ],
      "metadata": {
        "colab": {
          "base_uri": "https://localhost:8080/"
        },
        "id": "kzBgOK6nRdEQ",
        "outputId": "96596317-4467-4387-8925-065aab046fe7"
      },
      "execution_count": 79,
      "outputs": [
        {
          "output_type": "execute_result",
          "data": {
            "text/plain": [
              "(array(['Overweight', 'Normal', 'Obese'], dtype=object),\n",
              " array(['No Disorder', 'Sleep Apnea', 'Insomnia'], dtype=object))"
            ]
          },
          "metadata": {},
          "execution_count": 79
        }
      ]
    },
    {
      "cell_type": "code",
      "source": [
        "\n",
        "# Normal\n",
        "# Filter the full dataframe to only rows where BMI Category is Normal and Sleep Disorder is Insomnia.\n",
        "normal = raw_data[(raw_data[\"BMI Category\"] == \"Normal\") &\n",
        "                  (raw_data[\"Sleep Disorder\"] == \"Insomnia\")]\n",
        "\n",
        "# Total normal rows\n",
        "total_normal = len(raw_data[raw_data[\"BMI Category\"] == \"Normal\"])\n",
        "# Calculate normal insomnia ratio\n",
        "normal_insomnia_ratio = round(len(normal) / total_normal, 2)\n",
        "\n",
        "len(normal),total_normal, normal_insomnia_ratio"
      ],
      "metadata": {
        "colab": {
          "base_uri": "https://localhost:8080/"
        },
        "id": "vwOjy_F7DrrW",
        "outputId": "8ce46e6b-c22b-4936-d818-5d61300dc130"
      },
      "execution_count": 80,
      "outputs": [
        {
          "output_type": "execute_result",
          "data": {
            "text/plain": [
              "(9, 216, 0.04)"
            ]
          },
          "metadata": {},
          "execution_count": 80
        }
      ]
    },
    {
      "cell_type": "code",
      "source": [
        "# Overweight\n",
        "# Filter the full dataframe to only rows where BMI Category is Overweight and Sleep Disorder is Insomnia.\n",
        "overweight = raw_data[(raw_data[\"BMI Category\"] == \"Overweight\") &\n",
        "                      (raw_data[\"Sleep Disorder\"] == \"Insomnia\")]\n",
        "# Total overweight rows\n",
        "total_overweight = len(raw_data[raw_data[\"BMI Category\"] == \"Overweight\"])\n",
        "\n",
        "# Calculate overweight insomnia ratio\n",
        "overweight_insomnia_ratio = round(len(overweight) / total_overweight, 2)\n",
        "len(overweight),total_overweight , overweight_insomnia_ratio"
      ],
      "metadata": {
        "colab": {
          "base_uri": "https://localhost:8080/"
        },
        "id": "VUrnZWnNEJ1l",
        "outputId": "61fa41d0-4e43-41a2-ad17-d17d04a56451"
      },
      "execution_count": 81,
      "outputs": [
        {
          "output_type": "execute_result",
          "data": {
            "text/plain": [
              "(64, 148, 0.43)"
            ]
          },
          "metadata": {},
          "execution_count": 81
        }
      ]
    },
    {
      "cell_type": "code",
      "source": [
        "# Obese\n",
        "# Filter the full dataframe to only rows where BMI Category is Obese and Sleep Disorder is Insomnia.\n",
        "obese = raw_data[(raw_data[\"BMI Category\"] == \"Obese\") &\n",
        "                  (raw_data[\"Sleep Disorder\"] == \"Insomnia\")]\n",
        "\n",
        "# Total obese rows\n",
        "total_obese = len(raw_data[raw_data[\"BMI Category\"] == \"Obese\"])\n",
        "\n",
        "# Calculate obese insomnia ratio\n",
        "obese_insomnia_ratio = round(len(obese) / total_obese, 2)\n",
        "len(obese), total_obese, obese_insomnia_ratio"
      ],
      "metadata": {
        "colab": {
          "base_uri": "https://localhost:8080/"
        },
        "id": "ME9OXKFOEXyR",
        "outputId": "3bf9a34c-6391-471d-94c6-5c5be5bd501b"
      },
      "execution_count": 44,
      "outputs": [
        {
          "output_type": "execute_result",
          "data": {
            "text/plain": [
              "(4, 10, 0.4)"
            ]
          },
          "metadata": {},
          "execution_count": 44
        }
      ]
    },
    {
      "cell_type": "code",
      "source": [
        "normal_insomnia_ratio+overweight_insomnia_ratio+obese_insomnia_ratio"
      ],
      "metadata": {
        "colab": {
          "base_uri": "https://localhost:8080/"
        },
        "id": "_VRt2uCREibd",
        "outputId": "6f053927-32bb-4f4c-c0f3-d8c485f133c8"
      },
      "execution_count": 37,
      "outputs": [
        {
          "output_type": "execute_result",
          "data": {
            "text/plain": [
              "0.87"
            ]
          },
          "metadata": {},
          "execution_count": 37
        }
      ]
    },
    {
      "cell_type": "markdown",
      "source": [
        "## Create dictionary to store the ratios for each BMI category"
      ],
      "metadata": {
        "id": "iuYY4eYjR72l"
      }
    },
    {
      "cell_type": "code",
      "source": [
        "\n",
        "bmi_insomnia_ratios = {\n",
        "    \"Normal\": normal_insomnia_ratio,\n",
        "    \"Overweight\": overweight_insomnia_ratio,\n",
        "    \"Obese\": obese_insomnia_ratio\n",
        "}\n",
        "\n",
        "bmi_insomnia_ratios"
      ],
      "metadata": {
        "colab": {
          "base_uri": "https://localhost:8080/"
        },
        "id": "SZji9BiqEo5B",
        "outputId": "1a39df12-8d7d-448f-c295-39fab6e5a719"
      },
      "execution_count": 39,
      "outputs": [
        {
          "output_type": "execute_result",
          "data": {
            "text/plain": [
              "{'Normal': 0.04, 'Overweight': 0.43, 'Obese': 0.4}"
            ]
          },
          "metadata": {},
          "execution_count": 39
        }
      ]
    },
    {
      "cell_type": "markdown",
      "source": [
        "# **Pivot table** for BMI and sleep disorder"
      ],
      "metadata": {
        "id": "y0iuOL8KR-xs"
      }
    },
    {
      "cell_type": "code",
      "source": [
        "pivot_df_count= raw_data.pivot_table(index='BMI Category', columns='Sleep Disorder', fill_value=0, aggfunc='size')\n",
        "\n",
        "print(pivot_df_count)"
      ],
      "metadata": {
        "colab": {
          "base_uri": "https://localhost:8080/"
        },
        "id": "kmzLKAHhGk4o",
        "outputId": "de77c36f-cd14-4607-ecc9-41cc348adf1e"
      },
      "execution_count": 56,
      "outputs": [
        {
          "output_type": "stream",
          "name": "stdout",
          "text": [
            "Sleep Disorder  Insomnia  No Disorder  Sleep Apnea\n",
            "BMI Category                                      \n",
            "Normal                 9          200            7\n",
            "Obese                  4            0            6\n",
            "Overweight            64           19           65\n"
          ]
        }
      ]
    },
    {
      "cell_type": "markdown",
      "source": [
        "**Filter values in Pivot table**"
      ],
      "metadata": {
        "id": "t25ku4ncTZSs"
      }
    },
    {
      "cell_type": "code",
      "source": [
        "#filter the first column\n",
        "\n",
        "# Filter value at the normal and insomnia\n",
        "value_at_normal_insomnia  = pivot_df_count.iloc[0, 0]\n",
        "\n",
        "# Filter value at the obese and insomnia\n",
        "value_at_obese_insomnia = pivot_df_count.iloc[1, 0]\n",
        "\n",
        "# Filter value at the overweight and insomnia\n",
        "value_at_overweight_insomnia = pivot_df_count.iloc[2, 0]\n",
        "\n",
        "####sum of value in rows\n",
        "\n",
        "# Filter value at normal\n",
        "sum_value_normal = pivot_df_count.iloc[0].sum()\n",
        "\n",
        "# Filter value at obese\n",
        "sum_value_obese = pivot_df_count.iloc[1].sum()\n",
        "\n",
        "# Filter value at Overweight\n",
        "sum_value_Overweight = pivot_df_count.iloc[2].sum()\n",
        "\n",
        "\n",
        "value_at_normal_insomnia,value_at_obese_insomnia,value_at_overweight_insomnia, sum_value_normal ,sum_value_obese, sum_value_Overweight\n",
        "\n",
        "\n"
      ],
      "metadata": {
        "colab": {
          "base_uri": "https://localhost:8080/"
        },
        "id": "djk2Z8fZJQwG",
        "outputId": "0cadcc40-b9de-4928-9ee6-2340fce94542"
      },
      "execution_count": 64,
      "outputs": [
        {
          "output_type": "execute_result",
          "data": {
            "text/plain": [
              "(9, 4, 64, 216, 10, 148)"
            ]
          },
          "metadata": {},
          "execution_count": 64
        }
      ]
    },
    {
      "cell_type": "code",
      "source": [
        "normal=round(value_at_normal_insomnia/sum_value_normal, 2)\n",
        "obese=round(value_at_obese_insomnia/sum_value_obese, 2)\n",
        "overweight=round(value_at_overweight_insomnia/sum_value_Overweight, 2)\n",
        "\n",
        "normal, obese, overweight"
      ],
      "metadata": {
        "colab": {
          "base_uri": "https://localhost:8080/"
        },
        "id": "19azX2wYKwfE",
        "outputId": "8b2ddde4-8b15-4c57-ba25-b8b6def5667b"
      },
      "execution_count": 69,
      "outputs": [
        {
          "output_type": "execute_result",
          "data": {
            "text/plain": [
              "(0.04, 0.4, 0.43)"
            ]
          },
          "metadata": {},
          "execution_count": 69
        }
      ]
    },
    {
      "cell_type": "markdown",
      "source": [
        "**Filter** the pivot table to include only rows where the number of value at **column 'no disorder' is greater than 1**"
      ],
      "metadata": {
        "id": "6AsLlmfnTnZs"
      }
    },
    {
      "cell_type": "code",
      "source": [
        "\n",
        "filtered_pivot = pivot_df_count[pivot_df_count['No Disorder'] > 1]\n",
        "\n",
        "print(filtered_pivot)"
      ],
      "metadata": {
        "colab": {
          "base_uri": "https://localhost:8080/"
        },
        "id": "4odfu-wqI16c",
        "outputId": "31ab785e-02b7-4f05-e05b-5d58a7546853"
      },
      "execution_count": 58,
      "outputs": [
        {
          "output_type": "stream",
          "name": "stdout",
          "text": [
            "Sleep Disorder  Insomnia  No Disorder  Sleep Apnea\n",
            "BMI Category                                      \n",
            "Normal                 9          200            7\n",
            "Overweight            64           19           65\n"
          ]
        }
      ]
    },
    {
      "cell_type": "markdown",
      "source": [
        "**Get the values at pivot as percentage**"
      ],
      "metadata": {
        "id": "nFeBnBKYUAxw"
      }
    },
    {
      "cell_type": "code",
      "source": [
        "# Calculate total count of records\n",
        "total_records = len(raw_data)\n",
        "\n",
        "# Calculate the percentage of records for each cell\n",
        "pivot_df_percentage = pivot_df_count / total_records * 100\n",
        "round(pivot_df_percentage, 2)"
      ],
      "metadata": {
        "colab": {
          "base_uri": "https://localhost:8080/",
          "height": 175
        },
        "id": "XwqUuaGbMxu1",
        "outputId": "adf605f8-8fc4-4130-a7c7-c56aaae7b97e"
      },
      "execution_count": 84,
      "outputs": [
        {
          "output_type": "execute_result",
          "data": {
            "text/plain": [
              "Sleep Disorder  Insomnia  No Disorder  Sleep Apnea\n",
              "BMI Category                                      \n",
              "Normal              2.41        53.48         1.87\n",
              "Obese               1.07         0.00         1.60\n",
              "Overweight         17.11         5.08        17.38"
            ],
            "text/html": [
              "\n",
              "  <div id=\"df-d31ff24e-a12b-4b0e-b734-02fd1209d2e0\" class=\"colab-df-container\">\n",
              "    <div>\n",
              "<style scoped>\n",
              "    .dataframe tbody tr th:only-of-type {\n",
              "        vertical-align: middle;\n",
              "    }\n",
              "\n",
              "    .dataframe tbody tr th {\n",
              "        vertical-align: top;\n",
              "    }\n",
              "\n",
              "    .dataframe thead th {\n",
              "        text-align: right;\n",
              "    }\n",
              "</style>\n",
              "<table border=\"1\" class=\"dataframe\">\n",
              "  <thead>\n",
              "    <tr style=\"text-align: right;\">\n",
              "      <th>Sleep Disorder</th>\n",
              "      <th>Insomnia</th>\n",
              "      <th>No Disorder</th>\n",
              "      <th>Sleep Apnea</th>\n",
              "    </tr>\n",
              "    <tr>\n",
              "      <th>BMI Category</th>\n",
              "      <th></th>\n",
              "      <th></th>\n",
              "      <th></th>\n",
              "    </tr>\n",
              "  </thead>\n",
              "  <tbody>\n",
              "    <tr>\n",
              "      <th>Normal</th>\n",
              "      <td>2.41</td>\n",
              "      <td>53.48</td>\n",
              "      <td>1.87</td>\n",
              "    </tr>\n",
              "    <tr>\n",
              "      <th>Obese</th>\n",
              "      <td>1.07</td>\n",
              "      <td>0.00</td>\n",
              "      <td>1.60</td>\n",
              "    </tr>\n",
              "    <tr>\n",
              "      <th>Overweight</th>\n",
              "      <td>17.11</td>\n",
              "      <td>5.08</td>\n",
              "      <td>17.38</td>\n",
              "    </tr>\n",
              "  </tbody>\n",
              "</table>\n",
              "</div>\n",
              "    <div class=\"colab-df-buttons\">\n",
              "\n",
              "  <div class=\"colab-df-container\">\n",
              "    <button class=\"colab-df-convert\" onclick=\"convertToInteractive('df-d31ff24e-a12b-4b0e-b734-02fd1209d2e0')\"\n",
              "            title=\"Convert this dataframe to an interactive table.\"\n",
              "            style=\"display:none;\">\n",
              "\n",
              "  <svg xmlns=\"http://www.w3.org/2000/svg\" height=\"24px\" viewBox=\"0 -960 960 960\">\n",
              "    <path d=\"M120-120v-720h720v720H120Zm60-500h600v-160H180v160Zm220 220h160v-160H400v160Zm0 220h160v-160H400v160ZM180-400h160v-160H180v160Zm440 0h160v-160H620v160ZM180-180h160v-160H180v160Zm440 0h160v-160H620v160Z\"/>\n",
              "  </svg>\n",
              "    </button>\n",
              "\n",
              "  <style>\n",
              "    .colab-df-container {\n",
              "      display:flex;\n",
              "      gap: 12px;\n",
              "    }\n",
              "\n",
              "    .colab-df-convert {\n",
              "      background-color: #E8F0FE;\n",
              "      border: none;\n",
              "      border-radius: 50%;\n",
              "      cursor: pointer;\n",
              "      display: none;\n",
              "      fill: #1967D2;\n",
              "      height: 32px;\n",
              "      padding: 0 0 0 0;\n",
              "      width: 32px;\n",
              "    }\n",
              "\n",
              "    .colab-df-convert:hover {\n",
              "      background-color: #E2EBFA;\n",
              "      box-shadow: 0px 1px 2px rgba(60, 64, 67, 0.3), 0px 1px 3px 1px rgba(60, 64, 67, 0.15);\n",
              "      fill: #174EA6;\n",
              "    }\n",
              "\n",
              "    .colab-df-buttons div {\n",
              "      margin-bottom: 4px;\n",
              "    }\n",
              "\n",
              "    [theme=dark] .colab-df-convert {\n",
              "      background-color: #3B4455;\n",
              "      fill: #D2E3FC;\n",
              "    }\n",
              "\n",
              "    [theme=dark] .colab-df-convert:hover {\n",
              "      background-color: #434B5C;\n",
              "      box-shadow: 0px 1px 3px 1px rgba(0, 0, 0, 0.15);\n",
              "      filter: drop-shadow(0px 1px 2px rgba(0, 0, 0, 0.3));\n",
              "      fill: #FFFFFF;\n",
              "    }\n",
              "  </style>\n",
              "\n",
              "    <script>\n",
              "      const buttonEl =\n",
              "        document.querySelector('#df-d31ff24e-a12b-4b0e-b734-02fd1209d2e0 button.colab-df-convert');\n",
              "      buttonEl.style.display =\n",
              "        google.colab.kernel.accessAllowed ? 'block' : 'none';\n",
              "\n",
              "      async function convertToInteractive(key) {\n",
              "        const element = document.querySelector('#df-d31ff24e-a12b-4b0e-b734-02fd1209d2e0');\n",
              "        const dataTable =\n",
              "          await google.colab.kernel.invokeFunction('convertToInteractive',\n",
              "                                                    [key], {});\n",
              "        if (!dataTable) return;\n",
              "\n",
              "        const docLinkHtml = 'Like what you see? Visit the ' +\n",
              "          '<a target=\"_blank\" href=https://colab.research.google.com/notebooks/data_table.ipynb>data table notebook</a>'\n",
              "          + ' to learn more about interactive tables.';\n",
              "        element.innerHTML = '';\n",
              "        dataTable['output_type'] = 'display_data';\n",
              "        await google.colab.output.renderOutput(dataTable, element);\n",
              "        const docLink = document.createElement('div');\n",
              "        docLink.innerHTML = docLinkHtml;\n",
              "        element.appendChild(docLink);\n",
              "      }\n",
              "    </script>\n",
              "  </div>\n",
              "\n",
              "\n",
              "<div id=\"df-6645f7f9-2927-40c8-8ea1-a3a06e1ac371\">\n",
              "  <button class=\"colab-df-quickchart\" onclick=\"quickchart('df-6645f7f9-2927-40c8-8ea1-a3a06e1ac371')\"\n",
              "            title=\"Suggest charts\"\n",
              "            style=\"display:none;\">\n",
              "\n",
              "<svg xmlns=\"http://www.w3.org/2000/svg\" height=\"24px\"viewBox=\"0 0 24 24\"\n",
              "     width=\"24px\">\n",
              "    <g>\n",
              "        <path d=\"M19 3H5c-1.1 0-2 .9-2 2v14c0 1.1.9 2 2 2h14c1.1 0 2-.9 2-2V5c0-1.1-.9-2-2-2zM9 17H7v-7h2v7zm4 0h-2V7h2v10zm4 0h-2v-4h2v4z\"/>\n",
              "    </g>\n",
              "</svg>\n",
              "  </button>\n",
              "\n",
              "<style>\n",
              "  .colab-df-quickchart {\n",
              "      --bg-color: #E8F0FE;\n",
              "      --fill-color: #1967D2;\n",
              "      --hover-bg-color: #E2EBFA;\n",
              "      --hover-fill-color: #174EA6;\n",
              "      --disabled-fill-color: #AAA;\n",
              "      --disabled-bg-color: #DDD;\n",
              "  }\n",
              "\n",
              "  [theme=dark] .colab-df-quickchart {\n",
              "      --bg-color: #3B4455;\n",
              "      --fill-color: #D2E3FC;\n",
              "      --hover-bg-color: #434B5C;\n",
              "      --hover-fill-color: #FFFFFF;\n",
              "      --disabled-bg-color: #3B4455;\n",
              "      --disabled-fill-color: #666;\n",
              "  }\n",
              "\n",
              "  .colab-df-quickchart {\n",
              "    background-color: var(--bg-color);\n",
              "    border: none;\n",
              "    border-radius: 50%;\n",
              "    cursor: pointer;\n",
              "    display: none;\n",
              "    fill: var(--fill-color);\n",
              "    height: 32px;\n",
              "    padding: 0;\n",
              "    width: 32px;\n",
              "  }\n",
              "\n",
              "  .colab-df-quickchart:hover {\n",
              "    background-color: var(--hover-bg-color);\n",
              "    box-shadow: 0 1px 2px rgba(60, 64, 67, 0.3), 0 1px 3px 1px rgba(60, 64, 67, 0.15);\n",
              "    fill: var(--button-hover-fill-color);\n",
              "  }\n",
              "\n",
              "  .colab-df-quickchart-complete:disabled,\n",
              "  .colab-df-quickchart-complete:disabled:hover {\n",
              "    background-color: var(--disabled-bg-color);\n",
              "    fill: var(--disabled-fill-color);\n",
              "    box-shadow: none;\n",
              "  }\n",
              "\n",
              "  .colab-df-spinner {\n",
              "    border: 2px solid var(--fill-color);\n",
              "    border-color: transparent;\n",
              "    border-bottom-color: var(--fill-color);\n",
              "    animation:\n",
              "      spin 1s steps(1) infinite;\n",
              "  }\n",
              "\n",
              "  @keyframes spin {\n",
              "    0% {\n",
              "      border-color: transparent;\n",
              "      border-bottom-color: var(--fill-color);\n",
              "      border-left-color: var(--fill-color);\n",
              "    }\n",
              "    20% {\n",
              "      border-color: transparent;\n",
              "      border-left-color: var(--fill-color);\n",
              "      border-top-color: var(--fill-color);\n",
              "    }\n",
              "    30% {\n",
              "      border-color: transparent;\n",
              "      border-left-color: var(--fill-color);\n",
              "      border-top-color: var(--fill-color);\n",
              "      border-right-color: var(--fill-color);\n",
              "    }\n",
              "    40% {\n",
              "      border-color: transparent;\n",
              "      border-right-color: var(--fill-color);\n",
              "      border-top-color: var(--fill-color);\n",
              "    }\n",
              "    60% {\n",
              "      border-color: transparent;\n",
              "      border-right-color: var(--fill-color);\n",
              "    }\n",
              "    80% {\n",
              "      border-color: transparent;\n",
              "      border-right-color: var(--fill-color);\n",
              "      border-bottom-color: var(--fill-color);\n",
              "    }\n",
              "    90% {\n",
              "      border-color: transparent;\n",
              "      border-bottom-color: var(--fill-color);\n",
              "    }\n",
              "  }\n",
              "</style>\n",
              "\n",
              "  <script>\n",
              "    async function quickchart(key) {\n",
              "      const quickchartButtonEl =\n",
              "        document.querySelector('#' + key + ' button');\n",
              "      quickchartButtonEl.disabled = true;  // To prevent multiple clicks.\n",
              "      quickchartButtonEl.classList.add('colab-df-spinner');\n",
              "      try {\n",
              "        const charts = await google.colab.kernel.invokeFunction(\n",
              "            'suggestCharts', [key], {});\n",
              "      } catch (error) {\n",
              "        console.error('Error during call to suggestCharts:', error);\n",
              "      }\n",
              "      quickchartButtonEl.classList.remove('colab-df-spinner');\n",
              "      quickchartButtonEl.classList.add('colab-df-quickchart-complete');\n",
              "    }\n",
              "    (() => {\n",
              "      let quickchartButtonEl =\n",
              "        document.querySelector('#df-6645f7f9-2927-40c8-8ea1-a3a06e1ac371 button');\n",
              "      quickchartButtonEl.style.display =\n",
              "        google.colab.kernel.accessAllowed ? 'block' : 'none';\n",
              "    })();\n",
              "  </script>\n",
              "</div>\n",
              "    </div>\n",
              "  </div>\n"
            ],
            "application/vnd.google.colaboratory.intrinsic+json": {
              "type": "dataframe",
              "summary": "{\n  \"name\": \"round(pivot_df_percentage, 2)\",\n  \"rows\": 3,\n  \"fields\": [\n    {\n      \"column\": \"BMI Category\",\n      \"properties\": {\n        \"dtype\": \"string\",\n        \"num_unique_values\": 3,\n        \"samples\": [\n          \"Normal\",\n          \"Obese\",\n          \"Overweight\"\n        ],\n        \"semantic_type\": \"\",\n        \"description\": \"\"\n      }\n    },\n    {\n      \"column\": \"Insomnia\",\n      \"properties\": {\n        \"dtype\": \"number\",\n        \"std\": 8.899131043721816,\n        \"min\": 1.07,\n        \"max\": 17.11,\n        \"num_unique_values\": 3,\n        \"samples\": [\n          2.41,\n          1.07,\n          17.11\n        ],\n        \"semantic_type\": \"\",\n        \"description\": \"\"\n      }\n    },\n    {\n      \"column\": \"No Disorder\",\n      \"properties\": {\n        \"dtype\": \"number\",\n        \"std\": 29.519701895513776,\n        \"min\": 0.0,\n        \"max\": 53.48,\n        \"num_unique_values\": 3,\n        \"samples\": [\n          53.48,\n          0.0,\n          5.08\n        ],\n        \"semantic_type\": \"\",\n        \"description\": \"\"\n      }\n    },\n    {\n      \"column\": \"Sleep Apnea\",\n      \"properties\": {\n        \"dtype\": \"number\",\n        \"std\": 9.033653745854997,\n        \"min\": 1.6,\n        \"max\": 17.38,\n        \"num_unique_values\": 3,\n        \"samples\": [\n          1.87,\n          1.6,\n          17.38\n        ],\n        \"semantic_type\": \"\",\n        \"description\": \"\"\n      }\n    }\n  ]\n}"
            }
          },
          "metadata": {},
          "execution_count": 84
        }
      ]
    },
    {
      "cell_type": "markdown",
      "source": [
        "# **Pivot table** for BMI and sleep disorder, and **values mean Sleep duration**"
      ],
      "metadata": {
        "id": "VdefUCY3SNUu"
      }
    },
    {
      "cell_type": "code",
      "source": [
        "# pivot table for BMI and Sleep Disorder\n",
        "# Creating a pivot table with 'BMI' and 'Sleep Disorder' as rows and 'Value' as values\n",
        "pivot_BMI_Sleep_disorder = raw_data.pivot_table(index='BMI Category', columns='Sleep Disorder', values='Sleep Duration', aggfunc='mean', margins=True, margins_name='Total')\n",
        "\n",
        "print(round(pivot_BMI_Sleep_disorder, 2))\n",
        "\n"
      ],
      "metadata": {
        "colab": {
          "base_uri": "https://localhost:8080/"
        },
        "id": "bjUEwLOKF5n_",
        "outputId": "2b45e7e4-3f49-4b3f-8c40-ff342ecc1783"
      },
      "execution_count": 83,
      "outputs": [
        {
          "output_type": "stream",
          "name": "stdout",
          "text": [
            "Sleep Disorder  Insomnia  No Disorder  Sleep Apnea  Total\n",
            "BMI Category                                             \n",
            "Normal              7.20         7.41         6.96   7.39\n",
            "Obese               6.70          NaN         7.13   6.96\n",
            "Overweight          6.50         6.80         7.03   6.77\n",
            "Total               6.59         7.36         7.03   7.13\n"
          ]
        }
      ]
    },
    {
      "cell_type": "markdown",
      "source": [
        "# Visualization"
      ],
      "metadata": {
        "id": "Jba81IOCIbeN"
      }
    },
    {
      "cell_type": "code",
      "source": [
        "raw_data.columns"
      ],
      "metadata": {
        "colab": {
          "base_uri": "https://localhost:8080/"
        },
        "id": "_JJEuzO2U1MD",
        "outputId": "a581a521-e7d2-4bac-c6d8-efe8a191f890"
      },
      "execution_count": 85,
      "outputs": [
        {
          "output_type": "execute_result",
          "data": {
            "text/plain": [
              "Index(['Person ID', 'Gender', 'Age', 'Occupation', 'Sleep Duration',\n",
              "       'Quality of Sleep', 'Physical Activity Level', 'Stress Level',\n",
              "       'BMI Category', 'Blood Pressure', 'Heart Rate', 'Daily Steps',\n",
              "       'Sleep Disorder'],\n",
              "      dtype='object')"
            ]
          },
          "metadata": {},
          "execution_count": 85
        }
      ]
    },
    {
      "cell_type": "code",
      "source": [
        "occupation_stress_df = raw_data[['Occupation', 'Stress Level','Gender']].copy()"
      ],
      "metadata": {
        "id": "5SpIx9YrU5ZD"
      },
      "execution_count": 86,
      "outputs": []
    },
    {
      "cell_type": "code",
      "source": [
        "mean_stress_by_occupation_gender = occupation_stress_df.groupby(['Occupation', 'Gender'])['Stress Level'].mean().reset_index()\n",
        "mean_stress_by_occupation_gender"
      ],
      "metadata": {
        "colab": {
          "base_uri": "https://localhost:8080/",
          "height": 519
        },
        "id": "jjASFjQPVFes",
        "outputId": "69f7ddc6-fcf3-4746-9449-55261ed2803d"
      },
      "execution_count": 89,
      "outputs": [
        {
          "output_type": "execute_result",
          "data": {
            "text/plain": [
              "           Occupation  Gender  Stress Level\n",
              "0          Accountant  Female      4.555556\n",
              "1          Accountant    Male      6.000000\n",
              "2              Doctor  Female      3.000000\n",
              "3              Doctor    Male      6.840580\n",
              "4            Engineer  Female      3.000000\n",
              "5            Engineer    Male      4.806452\n",
              "6              Lawyer  Female      5.500000\n",
              "7              Lawyer    Male      5.044444\n",
              "8             Manager  Female      5.000000\n",
              "9               Nurse  Female      5.547945\n",
              "10        Salesperson    Male      7.058824\n",
              "11          Scientist  Female      7.000000\n",
              "12  Software Engineer    Male      6.000000\n",
              "13            Teacher  Female      4.285714\n",
              "14            Teacher    Male      6.200000"
            ],
            "text/html": [
              "\n",
              "  <div id=\"df-80ec4b02-4a6c-44e3-aa2d-ab838db95eef\" class=\"colab-df-container\">\n",
              "    <div>\n",
              "<style scoped>\n",
              "    .dataframe tbody tr th:only-of-type {\n",
              "        vertical-align: middle;\n",
              "    }\n",
              "\n",
              "    .dataframe tbody tr th {\n",
              "        vertical-align: top;\n",
              "    }\n",
              "\n",
              "    .dataframe thead th {\n",
              "        text-align: right;\n",
              "    }\n",
              "</style>\n",
              "<table border=\"1\" class=\"dataframe\">\n",
              "  <thead>\n",
              "    <tr style=\"text-align: right;\">\n",
              "      <th></th>\n",
              "      <th>Occupation</th>\n",
              "      <th>Gender</th>\n",
              "      <th>Stress Level</th>\n",
              "    </tr>\n",
              "  </thead>\n",
              "  <tbody>\n",
              "    <tr>\n",
              "      <th>0</th>\n",
              "      <td>Accountant</td>\n",
              "      <td>Female</td>\n",
              "      <td>4.555556</td>\n",
              "    </tr>\n",
              "    <tr>\n",
              "      <th>1</th>\n",
              "      <td>Accountant</td>\n",
              "      <td>Male</td>\n",
              "      <td>6.000000</td>\n",
              "    </tr>\n",
              "    <tr>\n",
              "      <th>2</th>\n",
              "      <td>Doctor</td>\n",
              "      <td>Female</td>\n",
              "      <td>3.000000</td>\n",
              "    </tr>\n",
              "    <tr>\n",
              "      <th>3</th>\n",
              "      <td>Doctor</td>\n",
              "      <td>Male</td>\n",
              "      <td>6.840580</td>\n",
              "    </tr>\n",
              "    <tr>\n",
              "      <th>4</th>\n",
              "      <td>Engineer</td>\n",
              "      <td>Female</td>\n",
              "      <td>3.000000</td>\n",
              "    </tr>\n",
              "    <tr>\n",
              "      <th>5</th>\n",
              "      <td>Engineer</td>\n",
              "      <td>Male</td>\n",
              "      <td>4.806452</td>\n",
              "    </tr>\n",
              "    <tr>\n",
              "      <th>6</th>\n",
              "      <td>Lawyer</td>\n",
              "      <td>Female</td>\n",
              "      <td>5.500000</td>\n",
              "    </tr>\n",
              "    <tr>\n",
              "      <th>7</th>\n",
              "      <td>Lawyer</td>\n",
              "      <td>Male</td>\n",
              "      <td>5.044444</td>\n",
              "    </tr>\n",
              "    <tr>\n",
              "      <th>8</th>\n",
              "      <td>Manager</td>\n",
              "      <td>Female</td>\n",
              "      <td>5.000000</td>\n",
              "    </tr>\n",
              "    <tr>\n",
              "      <th>9</th>\n",
              "      <td>Nurse</td>\n",
              "      <td>Female</td>\n",
              "      <td>5.547945</td>\n",
              "    </tr>\n",
              "    <tr>\n",
              "      <th>10</th>\n",
              "      <td>Salesperson</td>\n",
              "      <td>Male</td>\n",
              "      <td>7.058824</td>\n",
              "    </tr>\n",
              "    <tr>\n",
              "      <th>11</th>\n",
              "      <td>Scientist</td>\n",
              "      <td>Female</td>\n",
              "      <td>7.000000</td>\n",
              "    </tr>\n",
              "    <tr>\n",
              "      <th>12</th>\n",
              "      <td>Software Engineer</td>\n",
              "      <td>Male</td>\n",
              "      <td>6.000000</td>\n",
              "    </tr>\n",
              "    <tr>\n",
              "      <th>13</th>\n",
              "      <td>Teacher</td>\n",
              "      <td>Female</td>\n",
              "      <td>4.285714</td>\n",
              "    </tr>\n",
              "    <tr>\n",
              "      <th>14</th>\n",
              "      <td>Teacher</td>\n",
              "      <td>Male</td>\n",
              "      <td>6.200000</td>\n",
              "    </tr>\n",
              "  </tbody>\n",
              "</table>\n",
              "</div>\n",
              "    <div class=\"colab-df-buttons\">\n",
              "\n",
              "  <div class=\"colab-df-container\">\n",
              "    <button class=\"colab-df-convert\" onclick=\"convertToInteractive('df-80ec4b02-4a6c-44e3-aa2d-ab838db95eef')\"\n",
              "            title=\"Convert this dataframe to an interactive table.\"\n",
              "            style=\"display:none;\">\n",
              "\n",
              "  <svg xmlns=\"http://www.w3.org/2000/svg\" height=\"24px\" viewBox=\"0 -960 960 960\">\n",
              "    <path d=\"M120-120v-720h720v720H120Zm60-500h600v-160H180v160Zm220 220h160v-160H400v160Zm0 220h160v-160H400v160ZM180-400h160v-160H180v160Zm440 0h160v-160H620v160ZM180-180h160v-160H180v160Zm440 0h160v-160H620v160Z\"/>\n",
              "  </svg>\n",
              "    </button>\n",
              "\n",
              "  <style>\n",
              "    .colab-df-container {\n",
              "      display:flex;\n",
              "      gap: 12px;\n",
              "    }\n",
              "\n",
              "    .colab-df-convert {\n",
              "      background-color: #E8F0FE;\n",
              "      border: none;\n",
              "      border-radius: 50%;\n",
              "      cursor: pointer;\n",
              "      display: none;\n",
              "      fill: #1967D2;\n",
              "      height: 32px;\n",
              "      padding: 0 0 0 0;\n",
              "      width: 32px;\n",
              "    }\n",
              "\n",
              "    .colab-df-convert:hover {\n",
              "      background-color: #E2EBFA;\n",
              "      box-shadow: 0px 1px 2px rgba(60, 64, 67, 0.3), 0px 1px 3px 1px rgba(60, 64, 67, 0.15);\n",
              "      fill: #174EA6;\n",
              "    }\n",
              "\n",
              "    .colab-df-buttons div {\n",
              "      margin-bottom: 4px;\n",
              "    }\n",
              "\n",
              "    [theme=dark] .colab-df-convert {\n",
              "      background-color: #3B4455;\n",
              "      fill: #D2E3FC;\n",
              "    }\n",
              "\n",
              "    [theme=dark] .colab-df-convert:hover {\n",
              "      background-color: #434B5C;\n",
              "      box-shadow: 0px 1px 3px 1px rgba(0, 0, 0, 0.15);\n",
              "      filter: drop-shadow(0px 1px 2px rgba(0, 0, 0, 0.3));\n",
              "      fill: #FFFFFF;\n",
              "    }\n",
              "  </style>\n",
              "\n",
              "    <script>\n",
              "      const buttonEl =\n",
              "        document.querySelector('#df-80ec4b02-4a6c-44e3-aa2d-ab838db95eef button.colab-df-convert');\n",
              "      buttonEl.style.display =\n",
              "        google.colab.kernel.accessAllowed ? 'block' : 'none';\n",
              "\n",
              "      async function convertToInteractive(key) {\n",
              "        const element = document.querySelector('#df-80ec4b02-4a6c-44e3-aa2d-ab838db95eef');\n",
              "        const dataTable =\n",
              "          await google.colab.kernel.invokeFunction('convertToInteractive',\n",
              "                                                    [key], {});\n",
              "        if (!dataTable) return;\n",
              "\n",
              "        const docLinkHtml = 'Like what you see? Visit the ' +\n",
              "          '<a target=\"_blank\" href=https://colab.research.google.com/notebooks/data_table.ipynb>data table notebook</a>'\n",
              "          + ' to learn more about interactive tables.';\n",
              "        element.innerHTML = '';\n",
              "        dataTable['output_type'] = 'display_data';\n",
              "        await google.colab.output.renderOutput(dataTable, element);\n",
              "        const docLink = document.createElement('div');\n",
              "        docLink.innerHTML = docLinkHtml;\n",
              "        element.appendChild(docLink);\n",
              "      }\n",
              "    </script>\n",
              "  </div>\n",
              "\n",
              "\n",
              "<div id=\"df-86dc7753-9261-4a22-b07c-f867a405a817\">\n",
              "  <button class=\"colab-df-quickchart\" onclick=\"quickchart('df-86dc7753-9261-4a22-b07c-f867a405a817')\"\n",
              "            title=\"Suggest charts\"\n",
              "            style=\"display:none;\">\n",
              "\n",
              "<svg xmlns=\"http://www.w3.org/2000/svg\" height=\"24px\"viewBox=\"0 0 24 24\"\n",
              "     width=\"24px\">\n",
              "    <g>\n",
              "        <path d=\"M19 3H5c-1.1 0-2 .9-2 2v14c0 1.1.9 2 2 2h14c1.1 0 2-.9 2-2V5c0-1.1-.9-2-2-2zM9 17H7v-7h2v7zm4 0h-2V7h2v10zm4 0h-2v-4h2v4z\"/>\n",
              "    </g>\n",
              "</svg>\n",
              "  </button>\n",
              "\n",
              "<style>\n",
              "  .colab-df-quickchart {\n",
              "      --bg-color: #E8F0FE;\n",
              "      --fill-color: #1967D2;\n",
              "      --hover-bg-color: #E2EBFA;\n",
              "      --hover-fill-color: #174EA6;\n",
              "      --disabled-fill-color: #AAA;\n",
              "      --disabled-bg-color: #DDD;\n",
              "  }\n",
              "\n",
              "  [theme=dark] .colab-df-quickchart {\n",
              "      --bg-color: #3B4455;\n",
              "      --fill-color: #D2E3FC;\n",
              "      --hover-bg-color: #434B5C;\n",
              "      --hover-fill-color: #FFFFFF;\n",
              "      --disabled-bg-color: #3B4455;\n",
              "      --disabled-fill-color: #666;\n",
              "  }\n",
              "\n",
              "  .colab-df-quickchart {\n",
              "    background-color: var(--bg-color);\n",
              "    border: none;\n",
              "    border-radius: 50%;\n",
              "    cursor: pointer;\n",
              "    display: none;\n",
              "    fill: var(--fill-color);\n",
              "    height: 32px;\n",
              "    padding: 0;\n",
              "    width: 32px;\n",
              "  }\n",
              "\n",
              "  .colab-df-quickchart:hover {\n",
              "    background-color: var(--hover-bg-color);\n",
              "    box-shadow: 0 1px 2px rgba(60, 64, 67, 0.3), 0 1px 3px 1px rgba(60, 64, 67, 0.15);\n",
              "    fill: var(--button-hover-fill-color);\n",
              "  }\n",
              "\n",
              "  .colab-df-quickchart-complete:disabled,\n",
              "  .colab-df-quickchart-complete:disabled:hover {\n",
              "    background-color: var(--disabled-bg-color);\n",
              "    fill: var(--disabled-fill-color);\n",
              "    box-shadow: none;\n",
              "  }\n",
              "\n",
              "  .colab-df-spinner {\n",
              "    border: 2px solid var(--fill-color);\n",
              "    border-color: transparent;\n",
              "    border-bottom-color: var(--fill-color);\n",
              "    animation:\n",
              "      spin 1s steps(1) infinite;\n",
              "  }\n",
              "\n",
              "  @keyframes spin {\n",
              "    0% {\n",
              "      border-color: transparent;\n",
              "      border-bottom-color: var(--fill-color);\n",
              "      border-left-color: var(--fill-color);\n",
              "    }\n",
              "    20% {\n",
              "      border-color: transparent;\n",
              "      border-left-color: var(--fill-color);\n",
              "      border-top-color: var(--fill-color);\n",
              "    }\n",
              "    30% {\n",
              "      border-color: transparent;\n",
              "      border-left-color: var(--fill-color);\n",
              "      border-top-color: var(--fill-color);\n",
              "      border-right-color: var(--fill-color);\n",
              "    }\n",
              "    40% {\n",
              "      border-color: transparent;\n",
              "      border-right-color: var(--fill-color);\n",
              "      border-top-color: var(--fill-color);\n",
              "    }\n",
              "    60% {\n",
              "      border-color: transparent;\n",
              "      border-right-color: var(--fill-color);\n",
              "    }\n",
              "    80% {\n",
              "      border-color: transparent;\n",
              "      border-right-color: var(--fill-color);\n",
              "      border-bottom-color: var(--fill-color);\n",
              "    }\n",
              "    90% {\n",
              "      border-color: transparent;\n",
              "      border-bottom-color: var(--fill-color);\n",
              "    }\n",
              "  }\n",
              "</style>\n",
              "\n",
              "  <script>\n",
              "    async function quickchart(key) {\n",
              "      const quickchartButtonEl =\n",
              "        document.querySelector('#' + key + ' button');\n",
              "      quickchartButtonEl.disabled = true;  // To prevent multiple clicks.\n",
              "      quickchartButtonEl.classList.add('colab-df-spinner');\n",
              "      try {\n",
              "        const charts = await google.colab.kernel.invokeFunction(\n",
              "            'suggestCharts', [key], {});\n",
              "      } catch (error) {\n",
              "        console.error('Error during call to suggestCharts:', error);\n",
              "      }\n",
              "      quickchartButtonEl.classList.remove('colab-df-spinner');\n",
              "      quickchartButtonEl.classList.add('colab-df-quickchart-complete');\n",
              "    }\n",
              "    (() => {\n",
              "      let quickchartButtonEl =\n",
              "        document.querySelector('#df-86dc7753-9261-4a22-b07c-f867a405a817 button');\n",
              "      quickchartButtonEl.style.display =\n",
              "        google.colab.kernel.accessAllowed ? 'block' : 'none';\n",
              "    })();\n",
              "  </script>\n",
              "</div>\n",
              "    </div>\n",
              "  </div>\n"
            ],
            "application/vnd.google.colaboratory.intrinsic+json": {
              "type": "dataframe",
              "variable_name": "mean_stress_by_occupation_gender",
              "summary": "{\n  \"name\": \"mean_stress_by_occupation_gender\",\n  \"rows\": 15,\n  \"fields\": [\n    {\n      \"column\": \"Occupation\",\n      \"properties\": {\n        \"dtype\": \"string\",\n        \"num_unique_values\": 10,\n        \"samples\": [\n          \"Software Engineer\",\n          \"Doctor\",\n          \"Nurse\"\n        ],\n        \"semantic_type\": \"\",\n        \"description\": \"\"\n      }\n    },\n    {\n      \"column\": \"Gender\",\n      \"properties\": {\n        \"dtype\": \"category\",\n        \"num_unique_values\": 2,\n        \"samples\": [\n          \"Male\",\n          \"Female\"\n        ],\n        \"semantic_type\": \"\",\n        \"description\": \"\"\n      }\n    },\n    {\n      \"column\": \"Stress Level\",\n      \"properties\": {\n        \"dtype\": \"number\",\n        \"std\": 1.2762251789477372,\n        \"min\": 3.0,\n        \"max\": 7.0588235294117645,\n        \"num_unique_values\": 13,\n        \"samples\": [\n          4.285714285714286,\n          7.0588235294117645\n        ],\n        \"semantic_type\": \"\",\n        \"description\": \"\"\n      }\n    }\n  ]\n}"
            }
          },
          "metadata": {},
          "execution_count": 89
        }
      ]
    },
    {
      "cell_type": "code",
      "source": [
        "gender_stress_df = raw_data.groupby(['Gender'])['Stress Level'].mean().reset_index()\n",
        "gender_duration_df = raw_data.groupby(['Gender'])['Sleep Duration'].mean().reset_index()\n",
        "\n",
        "gender_stress_df, gender_duration_df"
      ],
      "metadata": {
        "colab": {
          "base_uri": "https://localhost:8080/"
        },
        "id": "ef6nJ1bJV8zj",
        "outputId": "70969b43-d99c-4857-ae82-2818da1ef0d6"
      },
      "execution_count": 94,
      "outputs": [
        {
          "output_type": "execute_result",
          "data": {
            "text/plain": [
              "(   Gender  Stress Level\n",
              " 0  Female      4.675676\n",
              " 1    Male      6.079365,\n",
              "    Gender  Sleep Duration\n",
              " 0  Female        7.229730\n",
              " 1    Male        7.036508)"
            ]
          },
          "metadata": {},
          "execution_count": 94
        }
      ]
    },
    {
      "cell_type": "code",
      "source": [
        "occupation_stress_df = raw_data.groupby(['Occupation'])['Stress Level'].mean().reset_index()\n",
        "occupation_duration_df = raw_data.groupby(['Occupation'])['Sleep Duration'].mean().reset_index()\n",
        "occupation_stress_df, occupation_duration_df\n"
      ],
      "metadata": {
        "colab": {
          "base_uri": "https://localhost:8080/"
        },
        "id": "Gh108GcKWHy0",
        "outputId": "216305f1-84d4-45c3-f83d-9b56407bd340"
      },
      "execution_count": 95,
      "outputs": [
        {
          "output_type": "execute_result",
          "data": {
            "text/plain": [
              "(          Occupation  Stress Level\n",
              " 0         Accountant      4.594595\n",
              " 1             Doctor      6.732394\n",
              " 2           Engineer      3.888889\n",
              " 3             Lawyer      5.063830\n",
              " 4            Manager      5.000000\n",
              " 5              Nurse      5.547945\n",
              " 6        Salesperson      7.058824\n",
              " 7          Scientist      7.000000\n",
              " 8  Software Engineer      6.000000\n",
              " 9            Teacher      4.525000,\n",
              "           Occupation  Sleep Duration\n",
              " 0         Accountant        7.113514\n",
              " 1             Doctor        6.970423\n",
              " 2           Engineer        7.987302\n",
              " 3             Lawyer        7.410638\n",
              " 4            Manager        6.900000\n",
              " 5              Nurse        7.063014\n",
              " 6        Salesperson        6.373529\n",
              " 7          Scientist        6.000000\n",
              " 8  Software Engineer        6.750000\n",
              " 9            Teacher        6.690000)"
            ]
          },
          "metadata": {},
          "execution_count": 95
        }
      ]
    },
    {
      "cell_type": "markdown",
      "source": [
        "Distribution of BMI categories and Sleep Disorder"
      ],
      "metadata": {
        "id": "sdBt4GWSXKJr"
      }
    },
    {
      "cell_type": "code",
      "source": [
        "bmi_counts = raw_data['BMI Category'].value_counts()\n",
        "sleep_disorder_counts = raw_data['Sleep Disorder'].value_counts()\n",
        "bmi_counts, sleep_disorder_counts"
      ],
      "metadata": {
        "colab": {
          "base_uri": "https://localhost:8080/"
        },
        "id": "stjWqtkTXPO2",
        "outputId": "aa20bede-c5cd-41c1-9631-731aa4739068"
      },
      "execution_count": 96,
      "outputs": [
        {
          "output_type": "execute_result",
          "data": {
            "text/plain": [
              "(BMI Category\n",
              " Normal        216\n",
              " Overweight    148\n",
              " Obese          10\n",
              " Name: count, dtype: int64,\n",
              " Sleep Disorder\n",
              " No Disorder    219\n",
              " Sleep Apnea     78\n",
              " Insomnia        77\n",
              " Name: count, dtype: int64)"
            ]
          },
          "metadata": {},
          "execution_count": 96
        }
      ]
    },
    {
      "cell_type": "code",
      "source": [
        "# Create subplots with 1 row and 2 columns\n",
        "fig, axs = plt.subplots(nrows=1, ncols=2, figsize=(10, 4))\n",
        "\n",
        "# Plot first pie chart\n",
        "axs[0].pie(bmi_counts, labels=bmi_counts.index, autopct='%1.1f%%', startangle=90)\n",
        "axs[0].set_title('Distribution of BMI Categories')\n",
        "\n",
        "# Plot second pie chart\n",
        "axs[1].pie(sleep_disorder_counts, labels=sleep_disorder_counts.index, autopct='%1.1f%%', startangle=90)\n",
        "axs[1].set_title('Distribution of Sleep Disorders')\n",
        "\n",
        "# Equal aspect ratio ensures that pie is drawn as a circle.\n",
        "axs[0].axis('equal')\n",
        "axs[1].axis('equal')\n",
        "\n",
        "plt.show()\n",
        "\n"
      ],
      "metadata": {
        "colab": {
          "base_uri": "https://localhost:8080/",
          "height": 367
        },
        "id": "oeDfWWjYXZZM",
        "outputId": "9fdbb9aa-0b94-49a1-bbd7-43952c4841be"
      },
      "execution_count": 109,
      "outputs": [
        {
          "output_type": "display_data",
          "data": {
            "text/plain": [
              "<Figure size 1000x400 with 2 Axes>"
            ],
            "image/png": "[encoded data removed]"
          },
          "metadata": {}
        }
      ]
    },
    {
      "cell_type": "markdown",
      "source": [
        "so seems that BMI and sleep disorders are related, at least the normal BMI and no disorder."
      ],
      "metadata": {
        "id": "yMlXaEwnaE4T"
      }
    },
    {
      "cell_type": "markdown",
      "source": [
        "# Is there a relationship between sleep duration and stress levels by gender?"
      ],
      "metadata": {
        "id": "PMJFmhWzakMT"
      }
    },
    {
      "cell_type": "code",
      "source": [
        "import seaborn as sns\n",
        "\n",
        "# gender_stress_df, gender_duration_df\n",
        "\n",
        "# Create subplots with 1 row and 2 columns\n",
        "fig, axs = plt.subplots(nrows=1, ncols=2, figsize=(12, 4))\n",
        "\n",
        "# Plot the first bar plot\n",
        "ax1 = sns.barplot(x='Gender', y='Sleep Duration', data=gender_duration_df, ax=axs[0], hue='Gender', palette={'Female': 'pink', 'Male': 'cornflowerblue'})\n",
        "# Add count labels to the bars\n",
        "for p in ax1.patches:\n",
        "    ax1.annotate(f'{p.get_height():.2f}',\n",
        "                (p.get_x() + p.get_width() / 2., p.get_height()),\n",
        "                ha='center', va='center',\n",
        "                xytext=(0, 5),\n",
        "                textcoords='offset points')\n",
        "axs[0].set_title('Comparison of mean Sleep Duration by Gender')\n",
        "\n",
        "# Plot the second bar plot\n",
        "ax2 = sns.barplot(x='Gender', y='Stress Level', data=gender_stress_df, ax=axs[1], hue='Gender', palette={'Female': 'pink', 'Male': 'cornflowerblue'})\n",
        "# Add count labels to the bars\n",
        "for p in ax2.patches:\n",
        "    ax2.annotate(f'{p.get_height():.2f}',\n",
        "                (p.get_x() + p.get_width() / 2., p.get_height()),\n",
        "                ha='center', va='center',\n",
        "                xytext=(0, 5),\n",
        "                textcoords='offset points')\n",
        "axs[1].set_title('Comparison of mean Stress levels Duration by Gender')\n",
        "\n",
        "plt.show()"
      ],
      "metadata": {
        "colab": {
          "base_uri": "https://localhost:8080/",
          "height": 410
        },
        "id": "F6vLupHbaxwD",
        "outputId": "a01eb6b9-c795-4b2f-d87c-75a85925de71"
      },
      "execution_count": 137,
      "outputs": [
        {
          "output_type": "display_data",
          "data": {
            "text/plain": [
              "<Figure size 1200x400 with 2 Axes>"
            ],
            "image/png": "[encoded data removed]"
          },
          "metadata": {}
        }
      ]
    },
    {
      "cell_type": "markdown",
      "source": [
        "Gender Distribution of occupation by Gender"
      ],
      "metadata": {
        "id": "aVKCFVXmfmRa"
      }
    },
    {
      "cell_type": "code",
      "source": [
        "plt.figure(figsize=(6, 4))\n",
        "# Create a countplot with x-axis labels vertical\n",
        "ax = sns.countplot(y='Occupation', data=raw_data, orient='V', hue='Gender', palette={'Female': 'pink', 'Male': 'cornflowerblue'})\n",
        "# Add count labels to the bars\n",
        "for p in ax.patches:\n",
        "    ax.annotate(format(p.get_width(), '.0f'),\n",
        "                (p.get_width(), p.get_y() + p.get_height() / 2.),\n",
        "                ha = 'center', va = 'center',\n",
        "                xytext = (10, 0),\n",
        "                textcoords = 'offset points')\n",
        "plt.xticks(rotation=90)  # Rotate x-axis labels to vertical\n",
        "plt.title('Bar Chart of Occupation by gender')\n",
        "plt.show()"
      ],
      "metadata": {
        "colab": {
          "base_uri": "https://localhost:8080/",
          "height": 414
        },
        "id": "dAGK5ITLfomq",
        "outputId": "f2fccb20-5dd2-4898-c619-92eef9c2bd38"
      },
      "execution_count": 139,
      "outputs": [
        {
          "output_type": "display_data",
          "data": {
            "text/plain": [
              "<Figure size 600x400 with 1 Axes>"
            ],
            "image/png": "[encoded data removed]"
          },
          "metadata": {}
        }
      ]
    },
    {
      "cell_type": "markdown",
      "source": [
        "Is there a difference in daily steps between different occupations?"
      ],
      "metadata": {
        "id": "nBRy1AlyjEws"
      }
    },
    {
      "cell_type": "code",
      "source": [
        "raw_data_sorted=raw_data.copy()\n",
        "raw_data_sorted = raw_data_sorted.sort_values(by='Daily Steps', ascending=False)\n",
        "\n",
        "plt.figure(figsize=(8,4))\n",
        "sns.stripplot(y='Occupation', x='Daily Steps', data=raw_data_sorted ,palette=\"husl\")\n",
        "plt.xticks(rotation=45)\n",
        "plt.xlabel('Occupation')\n",
        "plt.ylabel('Daily Steps')\n",
        "plt.title('Distribution of Daily Steps by Occupation')\n",
        "plt.show()"
      ],
      "metadata": {
        "colab": {
          "base_uri": "https://localhost:8080/",
          "height": 529
        },
        "id": "_N2RWNH9jfb8",
        "outputId": "7a3a0a4c-1b18-419f-9de9-74e139bc1915"
      },
      "execution_count": 144,
      "outputs": [
        {
          "output_type": "stream",
          "name": "stderr",
          "text": [
            "<ipython-input-144-b5336ca125d2>:5: FutureWarning: \n",
            "\n",
            "Passing `palette` without assigning `hue` is deprecated and will be removed in v0.14.0. Assign the `y` variable to `hue` and set `legend=False` for the same effect.\n",
            "\n",
            "  sns.stripplot(y='Occupation', x='Daily Steps', data=raw_data_sorted ,palette=\"husl\")\n"
          ]
        },
        {
          "output_type": "display_data",
          "data": {
            "text/plain": [
              "<Figure size 800x400 with 1 Axes>"
            ],
            "image/png": "[encoded data removed]"
          },
          "metadata": {}
        }
      ]
    },
    {
      "cell_type": "markdown",
      "source": [
        "As expected, the occupation with more steps are: nurse and doctor\n",
        "The occupation with less step is the manager and scientist"
      ],
      "metadata": {
        "id": "0hAWo4yHkIXo"
      }
    },
    {
      "cell_type": "markdown",
      "source": [
        "How are the BMI Category distributed by Occupation?"
      ],
      "metadata": {
        "id": "vnVMjsvblJ8V"
      }
    },
    {
      "cell_type": "code",
      "source": [
        "raw_data['BMI Category'].unique()"
      ],
      "metadata": {
        "colab": {
          "base_uri": "https://localhost:8080/"
        },
        "id": "dgY3QZBzlhMP",
        "outputId": "444a9b48-dbca-405a-c17b-e50310049593"
      },
      "execution_count": 145,
      "outputs": [
        {
          "output_type": "execute_result",
          "data": {
            "text/plain": [
              "array(['Overweight', 'Normal', 'Obese'], dtype=object)"
            ]
          },
          "metadata": {},
          "execution_count": 145
        }
      ]
    },
    {
      "cell_type": "code",
      "source": [
        "plt.figure(figsize=(8, 4))\n",
        "\n",
        "ax = sns.countplot(y='Occupation', data=raw_data, orient='V', hue='BMI Category', palette={'Overweight': 'yellow', 'Normal': 'green','Obese':'red' })\n",
        "plt.title(\"Bar Chart of BMI Category by Occupation\")\n",
        "# plt.xlabel(\"Occupation\")\n",
        "# plt.ylabel(\"Count\")\n",
        "# plt.xticks(rotation=90)\n",
        "plt.legend(title=\"BMI Category\")\n",
        "plt.show()"
      ],
      "metadata": {
        "colab": {
          "base_uri": "https://localhost:8080/",
          "height": 410
        },
        "id": "CTLJ-coylQFD",
        "outputId": "e669ba62-555f-4720-bba6-9321d3751ad9"
      },
      "execution_count": 148,
      "outputs": [
        {
          "output_type": "display_data",
          "data": {
            "text/plain": [
              "<Figure size 800x400 with 1 Axes>"
            ],
            "image/png": "[encoded data removed]"
          },
          "metadata": {}
        }
      ]
    },
    {
      "cell_type": "markdown",
      "source": [
        "So the occupation with more obesity is the Doctor"
      ],
      "metadata": {
        "id": "xWXCOk9IlLF8"
      }
    },
    {
      "cell_type": "markdown",
      "source": [
        "Are people with higher daily steps more likely to have a healthy BMI category?"
      ],
      "metadata": {
        "id": "vcTau8XInWjh"
      }
    },
    {
      "cell_type": "code",
      "source": [
        "average_steps_by_bmi = raw_data.groupby('BMI Category')['Daily Steps'].mean().reset_index()\n",
        "\n",
        "plt.figure(figsize=(6, 4))\n",
        "sns.barplot(data=average_steps_by_bmi, x='BMI Category', y='Daily Steps', palette='rocket')\n",
        "plt.xlabel('BMI Category')\n",
        "plt.ylabel('Average Daily Steps')\n",
        "plt.title('Average Daily Steps by BMI Category')\n",
        "plt.xticks(rotation=45)\n",
        "plt.show()"
      ],
      "metadata": {
        "colab": {
          "base_uri": "https://localhost:8080/",
          "height": 555
        },
        "id": "-XsR92jJnk_R",
        "outputId": "de5e648b-ba77-4d51-cce7-3806bdfe6b0a"
      },
      "execution_count": 150,
      "outputs": [
        {
          "output_type": "stream",
          "name": "stderr",
          "text": [
            "<ipython-input-150-7514b4a46a03>:4: FutureWarning: \n",
            "\n",
            "Passing `palette` without assigning `hue` is deprecated and will be removed in v0.14.0. Assign the `x` variable to `hue` and set `legend=False` for the same effect.\n",
            "\n",
            "  sns.barplot(data=average_steps_by_bmi, x='BMI Category', y='Daily Steps', palette='rocket')\n"
          ]
        },
        {
          "output_type": "display_data",
          "data": {
            "text/plain": [
              "<Figure size 600x400 with 1 Axes>"
            ],
            "image/png": "[encoded data removed]"
          },
          "metadata": {}
        }
      ]
    },
    {
      "cell_type": "markdown",
      "source": [
        "So people with daily steps lower have BMI obese."
      ],
      "metadata": {
        "id": "w59OLBcJoCZF"
      }
    },
    {
      "cell_type": "markdown",
      "source": [
        "Visualization of occupation and quality sleep"
      ],
      "metadata": {
        "id": "BZ7gXTe_oZVR"
      }
    },
    {
      "cell_type": "code",
      "source": [
        "mean_occupation_quality = raw_data.groupby(['Occupation', 'Gender'])['Quality of Sleep'].mean().reset_index()\n",
        "mean_occupation_duration = raw_data.groupby(['Occupation', 'Gender'])['Sleep Duration'].mean().reset_index()\n",
        "mean_occupation_stress = raw_data.groupby(['Occupation', 'Gender'])['Stress Level'].mean().reset_index()\n",
        "\n",
        "mean_occupation_quality_sorted = mean_occupation_quality.sort_values(by='Quality of Sleep', ascending=False)\n",
        "mean_occupation_duration_sorted = mean_occupation_duration.sort_values(by='Sleep Duration', ascending=False)\n",
        "mean_occupation_stress_sorted = mean_occupation_stress.sort_values(by='Stress Level', ascending=False)\n",
        "\n",
        "# Create subplots with 1 row and 2 columns\n",
        "fig, axs = plt.subplots(nrows=1, ncols=3, figsize=(16, 4))\n",
        "\n",
        "# Plot the first bar plot\n",
        "ax1 = sns.barplot(y='Occupation', x='Quality of Sleep', data=mean_occupation_quality_sorted, ax=axs[0],palette='Set2')\n",
        "axs[0].set_title('Comparison of mean Sleep quality by Occupation')\n",
        "\n",
        "# Plot the second bar plot\n",
        "ax2 = sns.barplot(y='Occupation', x='Sleep Duration', data=mean_occupation_duration_sorted, ax=axs[1],palette='Set2')\n",
        "axs[1].set_title('Comparison of mean Sleep Duration by Occupation')\n",
        "\n",
        "# Plot the second bar plot\n",
        "ax3 = sns.barplot(y='Occupation', x='Stress Level', data=mean_occupation_stress_sorted, ax=axs[2],palette='Set2')\n",
        "axs[2].set_title('Comparison of mean Stress Level by Occupation')\n",
        "\n",
        "plt.tight_layout()  # Adjust layout to prevent overlap\n",
        "\n",
        "plt.show()"
      ],
      "metadata": {
        "colab": {
          "base_uri": "https://localhost:8080/",
          "height": 684
        },
        "id": "e_NNxkE8ohbi",
        "outputId": "e8487d09-9d83-4032-e6ac-575da3cabf20"
      },
      "execution_count": 191,
      "outputs": [
        {
          "output_type": "stream",
          "name": "stderr",
          "text": [
            "<ipython-input-191-8be118447bd4>:13: FutureWarning: \n",
            "\n",
            "Passing `palette` without assigning `hue` is deprecated and will be removed in v0.14.0. Assign the `y` variable to `hue` and set `legend=False` for the same effect.\n",
            "\n",
            "  ax1 = sns.barplot(y='Occupation', x='Quality of Sleep', data=mean_occupation_quality_sorted, ax=axs[0],palette='Set2')\n",
            "<ipython-input-191-8be118447bd4>:17: FutureWarning: \n",
            "\n",
            "Passing `palette` without assigning `hue` is deprecated and will be removed in v0.14.0. Assign the `y` variable to `hue` and set `legend=False` for the same effect.\n",
            "\n",
            "  ax2 = sns.barplot(y='Occupation', x='Sleep Duration', data=mean_occupation_duration_sorted, ax=axs[1],palette='Set2')\n",
            "<ipython-input-191-8be118447bd4>:21: FutureWarning: \n",
            "\n",
            "Passing `palette` without assigning `hue` is deprecated and will be removed in v0.14.0. Assign the `y` variable to `hue` and set `legend=False` for the same effect.\n",
            "\n",
            "  ax3 = sns.barplot(y='Occupation', x='Stress Level', data=mean_occupation_stress_sorted, ax=axs[2],palette='Set2')\n"
          ]
        },
        {
          "output_type": "display_data",
          "data": {
            "text/plain": [
              "<Figure size 1600x400 with 3 Axes>"
            ],
            "image/png": "[encoded data removed]"
          },
          "metadata": {}
        }
      ]
    },
    {
      "cell_type": "markdown",
      "source": [
        "Scientists have the lowest average quality of sleep, followed by salespersons. At a glance, those who work in sales also appear to have lower sleep durations and higher stress levels.\n",
        "\n",
        "The Sales Person and scientist have the stress level higher."
      ],
      "metadata": {
        "id": "BUUonw_FqzlL"
      }
    },
    {
      "cell_type": "markdown",
      "source": [
        "Correlation"
      ],
      "metadata": {
        "id": "L8h4lRSswYVo"
      }
    },
    {
      "cell_type": "code",
      "source": [
        "selected_columns = ['Age', 'Sleep Duration', 'Quality of Sleep', 'Physical Activity Level', 'Stress Level', 'Heart Rate', 'Daily Steps']\n",
        "new_df = raw_data[selected_columns]\n",
        "\n",
        "correlation_matrix = new_df.corr()\n",
        "\n",
        "plt.figure(figsize=(5, 5))\n",
        "sns.heatmap(correlation_matrix, annot=True, cmap='coolwarm')\n",
        "plt.title(\"Correlation Heatmap\")\n",
        "plt.show()\n"
      ],
      "metadata": {
        "colab": {
          "base_uri": "https://localhost:8080/",
          "height": 608
        },
        "id": "lfNnO3e3wavL",
        "outputId": "14a3501f-4076-49a1-99e6-eac2e353a30e"
      },
      "execution_count": 209,
      "outputs": [
        {
          "output_type": "display_data",
          "data": {
            "text/plain": [
              "<Figure size 500x500 with 2 Axes>"
            ],
            "image/png": "[encoded data removed]"
          },
          "metadata": {}
        }
      ]
    },
    {
      "cell_type": "markdown",
      "source": [
        "the features more correlated are Sleep duration and quality sleep with 0.88 of correlation"
      ],
      "metadata": {
        "id": "d1mojTPXwxJ7"
      }
    },
    {
      "cell_type": "markdown",
      "source": [
        "# Create Linear Regression Model"
      ],
      "metadata": {
        "id": "7aRNjAYV19fo"
      }
    },
    {
      "cell_type": "code",
      "source": [
        "#Create a linear regression model to predict quality of sleep\n",
        "from sklearn.linear_model import LinearRegression\n",
        "\n",
        "# Define the response variable and predictors\n",
        "X = raw_data[['Sleep Duration', 'Stress Level', 'Heart Rate']] #predictors\n",
        "y = raw_data['Quality of Sleep'] # target\n",
        "\n",
        "model = LinearRegression()\n",
        "\n",
        "# Fit the model\n",
        "model.fit(X, y)\n",
        "\n",
        "# Print the coefficients\n",
        "print('Coefficients:', model.coef_)"
      ],
      "metadata": {
        "colab": {
          "base_uri": "https://localhost:8080/"
        },
        "id": "2MUJmRGo2BdI",
        "outputId": "7583d992-b9b6-43f0-cfa2-65b564aceada"
      },
      "execution_count": 205,
      "outputs": [
        {
          "output_type": "stream",
          "name": "stdout",
          "text": [
            "Coefficients: [ 0.69333281 -0.29661064 -0.03681626]\n"
          ]
        }
      ]
    },
    {
      "cell_type": "code",
      "source": [
        "#Create a linear regression model to predict sleep duration\n",
        "from sklearn.linear_model import LinearRegression\n",
        "\n",
        "# Define the response variable and predictors\n",
        "X = raw_data[['Stress Level', 'Heart Rate']]\n",
        "y = raw_data['Sleep Duration']\n",
        "\n",
        "model = LinearRegression()\n",
        "\n",
        "# Fit the model\n",
        "model.fit(X, y)\n",
        "\n",
        "# Print the coefficients\n",
        "print('Coefficients:', model.coef_)"
      ],
      "metadata": {
        "colab": {
          "base_uri": "https://localhost:8080/"
        },
        "id": "bk0GlyJ_2QxS",
        "outputId": "07f9fa7c-27cd-4d8a-a531-a9d61596f5b3"
      },
      "execution_count": 206,
      "outputs": [
        {
          "output_type": "stream",
          "name": "stdout",
          "text": [
            "Coefficients: [-0.37833747  0.00940953]\n"
          ]
        }
      ]
    },
    {
      "cell_type": "markdown",
      "source": [
        "# Summary\n",
        "\n",
        "The linear regression models provide more details about how much our correlated features impact sleep quality. We have the following conclusions:\n",
        "\n",
        "1- The attributes most correlated with **sleep quality** are *sleep duration, stress level, and heart rate*. More specifically:\n",
        "\n",
        " - For each extra hour of sleep (up to 8.5 hours), quality of sleep *improves* by about 7%\n",
        " - For each 1 point increase in stress level (on a scale of 1-10), quality of sleep *decreases* by about 3%\n",
        " - For each 1 point increase in average heart rate, quality of sleep *decreases* by about .4%\n",
        "\n",
        "2- Clearly **sleep duration** is important for improving **sleep quality**. So the factors that impact sleep duration are:\n",
        "\n",
        " - For each 1 point increase in stress level, sleep duration *decreases* by about .4 hrs (24 minutes)\n",
        " - For each 1 point increase in average heart rate sleep duration *increases* by .009 hrs, or approximately .5 minutes\n",
        "\n",
        "3- In terms of occupation, scientists and salespersons had the lowest quality of sleep ratings, while engineers had the highest."
      ],
      "metadata": {
        "id": "-OvzvqxF2hAo"
      }
    },
    {
      "cell_type": "markdown",
      "source": [
        "https://github.com/NikoSeino/Python-Projects/blob/main/sleep-quality-analysis.ipynb\n",
        "\n",
        "https://www.kaggle.com/code/ishavsaraf/full-analysis-and-eda-of-sleep-disorder"
      ],
      "metadata": {
        "id": "pCWIej6aHXz1"
      }
    },
    {
      "cell_type": "code",
      "source": [],
      "metadata": {
        "id": "awjP86CXH_pW"
      },
      "execution_count": null,
      "outputs": []
    }
  ]
}